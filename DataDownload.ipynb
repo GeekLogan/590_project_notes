{
 "cells": [
  {
   "cell_type": "code",
   "execution_count": 1,
   "metadata": {},
   "outputs": [],
   "source": [
    "import pandas as pd"
   ]
  },
  {
   "cell_type": "code",
   "execution_count": 4,
   "metadata": {},
   "outputs": [],
   "source": [
    "samples = pd.read_csv( 'tumor_details.csv' )"
   ]
  },
  {
   "cell_type": "code",
   "execution_count": 50,
   "metadata": {},
   "outputs": [
    {
     "data": {
      "text/html": [
       "<div>\n",
       "<style scoped>\n",
       "    .dataframe tbody tr th:only-of-type {\n",
       "        vertical-align: middle;\n",
       "    }\n",
       "\n",
       "    .dataframe tbody tr th {\n",
       "        vertical-align: top;\n",
       "    }\n",
       "\n",
       "    .dataframe thead th {\n",
       "        text-align: right;\n",
       "    }\n",
       "</style>\n",
       "<table border=\"1\" class=\"dataframe\">\n",
       "  <thead>\n",
       "    <tr style=\"text-align: right;\">\n",
       "      <th></th>\n",
       "      <th>donor_id</th>\n",
       "      <th>tumor_name</th>\n",
       "      <th>molecular_subtype</th>\n",
       "      <th>extent_of_resection</th>\n",
       "      <th>surgery</th>\n",
       "      <th>mgmt_methylation</th>\n",
       "      <th>survival_days</th>\n",
       "      <th>egfr_amplification</th>\n",
       "      <th>initial_kps</th>\n",
       "      <th>age_in_years</th>\n",
       "    </tr>\n",
       "  </thead>\n",
       "  <tbody>\n",
       "    <tr>\n",
       "      <th>0</th>\n",
       "      <td>12111</td>\n",
       "      <td>W10-1-1</td>\n",
       "      <td>Proneural</td>\n",
       "      <td>Complete</td>\n",
       "      <td>primary</td>\n",
       "      <td>Yes</td>\n",
       "      <td>NaN</td>\n",
       "      <td>No</td>\n",
       "      <td>100</td>\n",
       "      <td>44 yrs</td>\n",
       "    </tr>\n",
       "    <tr>\n",
       "      <th>1</th>\n",
       "      <td>12112</td>\n",
       "      <td>W11-1-1</td>\n",
       "      <td>Classical, Mesenchymal</td>\n",
       "      <td>Complete</td>\n",
       "      <td>primary</td>\n",
       "      <td>Yes</td>\n",
       "      <td>1076.0</td>\n",
       "      <td>No</td>\n",
       "      <td>100</td>\n",
       "      <td>57 yrs</td>\n",
       "    </tr>\n",
       "    <tr>\n",
       "      <th>2</th>\n",
       "      <td>10865</td>\n",
       "      <td>W1-1-2</td>\n",
       "      <td>Classical</td>\n",
       "      <td>Complete</td>\n",
       "      <td>primary</td>\n",
       "      <td>No</td>\n",
       "      <td>105.0</td>\n",
       "      <td>Yes</td>\n",
       "      <td>100</td>\n",
       "      <td>66 yrs</td>\n",
       "    </tr>\n",
       "    <tr>\n",
       "      <th>3</th>\n",
       "      <td>12165</td>\n",
       "      <td>W12-1-1</td>\n",
       "      <td>Classical</td>\n",
       "      <td>Sub-total</td>\n",
       "      <td>primary</td>\n",
       "      <td>No</td>\n",
       "      <td>80.0</td>\n",
       "      <td>Yes</td>\n",
       "      <td>70</td>\n",
       "      <td>61 yrs</td>\n",
       "    </tr>\n",
       "    <tr>\n",
       "      <th>4</th>\n",
       "      <td>12877</td>\n",
       "      <td>W13-1-1</td>\n",
       "      <td>Mesenchymal</td>\n",
       "      <td>Complete</td>\n",
       "      <td>primary</td>\n",
       "      <td>No</td>\n",
       "      <td>250.0</td>\n",
       "      <td>Yes</td>\n",
       "      <td>90</td>\n",
       "      <td>59 yrs</td>\n",
       "    </tr>\n",
       "  </tbody>\n",
       "</table>\n",
       "</div>"
      ],
      "text/plain": [
       "   donor_id tumor_name       molecular_subtype extent_of_resection  surgery  \\\n",
       "0     12111    W10-1-1               Proneural            Complete  primary   \n",
       "1     12112    W11-1-1  Classical, Mesenchymal            Complete  primary   \n",
       "2     10865     W1-1-2               Classical            Complete  primary   \n",
       "3     12165    W12-1-1               Classical           Sub-total  primary   \n",
       "4     12877    W13-1-1             Mesenchymal            Complete  primary   \n",
       "\n",
       "  mgmt_methylation  survival_days egfr_amplification  initial_kps age_in_years  \n",
       "0              Yes            NaN                 No          100       44 yrs  \n",
       "1              Yes         1076.0                 No          100       57 yrs  \n",
       "2               No          105.0                Yes          100       66 yrs  \n",
       "3               No           80.0                Yes           70       61 yrs  \n",
       "4               No          250.0                Yes           90       59 yrs  "
      ]
     },
     "execution_count": 50,
     "metadata": {},
     "output_type": "execute_result"
    }
   ],
   "source": [
    "samples.head()"
   ]
  },
  {
   "cell_type": "raw",
   "metadata": {},
   "source": [
    "All of the needed API docs: http://help.brain-map.org/display/glioblastoma/API#API-DownloadImages"
   ]
  },
  {
   "cell_type": "raw",
   "metadata": {},
   "source": [
    "Select all individual samples from the glioblastoma product:\n",
    "\n",
    "http://api.brain-map.org/api/v2/data/query.xml?criteria=\n",
    "model::Specimen\n",
    ",rma::criteria,products[name$eq'Glioblastoma']\n",
    ",rma::options[num_rows$eqall]"
   ]
  },
  {
   "cell_type": "raw",
   "metadata": {},
   "source": [
    "!!!! CONTINUE HERE !!!!\n",
    "\n",
    "\n",
    "http://api.brain-map.org/api/v2/data/query.xml?criteria=\n",
    "model::SectionDataSet\n",
    ",rma::criteria,specimen[external_specimen_name$eq'W32-1-1-K.01'],treatments[name$eq'ISH']\n",
    ",rma::include,genes,sub_images"
   ]
  },
  {
   "cell_type": "code",
   "execution_count": 37,
   "metadata": {},
   "outputs": [],
   "source": [
    "import urllib\n",
    "import xmltodict\n",
    "\n",
    "def get_all_samples():\n",
    "    file = urllib.request.urlopen('http://api.brain-map.org/api/v2/data/query.xml?criteria=model::Specimen,rma::criteria,products[name$eq%27Glioblastoma%27],rma::options[num_rows$eqall]')\n",
    "    data = file.read()\n",
    "    file.close()\n",
    "\n",
    "    data = xmltodict.parse(data)\n",
    "    return data"
   ]
  },
  {
   "cell_type": "code",
   "execution_count": 38,
   "metadata": {},
   "outputs": [],
   "source": [
    "all_samples_resp = get_all_samples()"
   ]
  },
  {
   "cell_type": "code",
   "execution_count": 48,
   "metadata": {},
   "outputs": [
    {
     "name": "stdout",
     "output_type": "stream",
     "text": [
      "Found 948 samples\n"
     ]
    }
   ],
   "source": [
    "all_specimens = sorted( [ x['external-specimen-name'] for x in all_samples_resp['Response']['specimens']['specimen'] ] )\n",
    "print( 'Found {} samples'.format( len(all_specimens) ) )"
   ]
  },
  {
   "cell_type": "code",
   "execution_count": 49,
   "metadata": {},
   "outputs": [
    {
     "name": "stdout",
     "output_type": "stream",
     "text": [
      "W1-1-2-A.1.01, W1-1-2-A.1.02, W1-1-2-AB.2.01, W1-1-2-AB.2.02, W1-1-2-AB.2.03, W1-1-2-AB.2.04, W1-1-2-AB.2.05, W1-1-2-B.1.01, W1-1-2-B.1.02, W1-1-2-D.2.01 ,.....\n"
     ]
    }
   ],
   "source": [
    "print( ', '.join( all_specimens[:10] ), ',.....' )"
   ]
  },
  {
   "cell_type": "code",
   "execution_count": null,
   "metadata": {},
   "outputs": [],
   "source": []
  }
 ],
 "metadata": {
  "kernelspec": {
   "display_name": "Python 3",
   "language": "python",
   "name": "python3"
  },
  "language_info": {
   "codemirror_mode": {
    "name": "ipython",
    "version": 3
   },
   "file_extension": ".py",
   "mimetype": "text/x-python",
   "name": "python",
   "nbconvert_exporter": "python",
   "pygments_lexer": "ipython3",
   "version": "3.7.6"
  }
 },
 "nbformat": 4,
 "nbformat_minor": 4
}
