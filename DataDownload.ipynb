{
 "cells": [
  {
   "cell_type": "code",
   "execution_count": 1,
   "metadata": {},
   "outputs": [],
   "source": [
    "import pandas as pd"
   ]
  },
  {
   "cell_type": "code",
   "execution_count": null,
   "metadata": {},
   "outputs": [],
   "source": [
    "import urllib\n",
    "import xmltodict"
   ]
  },
  {
   "cell_type": "code",
   "execution_count": 131,
   "metadata": {},
   "outputs": [],
   "source": [
    "#samples = pd.read_csv( 'tumor_details.csv' )"
   ]
  },
  {
   "cell_type": "code",
   "execution_count": 132,
   "metadata": {},
   "outputs": [],
   "source": [
    "#samples.head()"
   ]
  },
  {
   "cell_type": "raw",
   "metadata": {},
   "source": [
    "All of the needed API docs: http://help.brain-map.org/display/glioblastoma/API#API-DownloadImages"
   ]
  },
  {
   "cell_type": "code",
   "execution_count": 19,
   "metadata": {},
   "outputs": [],
   "source": [
    "def do_request( url ):\n",
    "    file = urllib.request.urlopen( url )\n",
    "    data = file.read()\n",
    "    file.close()\n",
    "    data = xmltodict.parse(data)\n",
    "    return data"
   ]
  },
  {
   "cell_type": "code",
   "execution_count": 20,
   "metadata": {},
   "outputs": [],
   "source": [
    "def get_all_samples():\n",
    "    return do_request( 'http://api.brain-map.org/api/v2/data/query.xml?criteria=model::Specimen,rma::criteria,products[name$eq%27Glioblastoma%27],rma::options[num_rows$eqall]' )"
   ]
  },
  {
   "cell_type": "code",
   "execution_count": 130,
   "metadata": {},
   "outputs": [],
   "source": [
    "all_samples_resp = get_all_samples()"
   ]
  },
  {
   "cell_type": "code",
   "execution_count": 22,
   "metadata": {},
   "outputs": [
    {
     "name": "stdout",
     "output_type": "stream",
     "text": [
      "Found 948 samples\n"
     ]
    }
   ],
   "source": [
    "all_specimens = sorted( [ x['external-specimen-name'] for x in all_samples_resp['Response']['specimens']['specimen'] ] )\n",
    "print( 'Found {} samples'.format( len(all_specimens) ) )"
   ]
  },
  {
   "cell_type": "code",
   "execution_count": 82,
   "metadata": {},
   "outputs": [],
   "source": [
    "def get_sample_detail( specimen='W1-1-2-A.1.01' ):\n",
    "    return do_request( \"http://api.brain-map.org/api/v2/data/query.xml?criteria=model::SectionDataSet,rma::criteria,specimen[external_specimen_name$eq'{}'],rma::include,genes,sub_images\".format(specimen) )"
   ]
  },
  {
   "cell_type": "raw",
   "metadata": {},
   "source": [
    "http://api.brain-map.org/api/v2/image_download/278269506"
   ]
  },
  {
   "cell_type": "code",
   "execution_count": 172,
   "metadata": {},
   "outputs": [],
   "source": [
    "def get_all_section_images( specimen='W1-1-2-A.1.01' ):\n",
    "    data = get_sample_detail( specimen )\n",
    "    data = data['Response']['section-data-sets']['section-data-set']\n",
    "    \n",
    "    out = []\n",
    "    for a in data:\n",
    "        if a['genes'] is not None:\n",
    "            out.append(\n",
    "                (\n",
    "                    a['genes']['gene']['acronym'],\n",
    "                    a['sub-images']['sub-image']['id']['#text'],\n",
    "                    a['sub-images']['sub-image']['section-number']['#text']\n",
    "                )\n",
    "            )\n",
    "        else:\n",
    "            for i,sub_image in enumerate( a['sub-images']['sub-image'] ):\n",
    "                try:\n",
    "                    out.append( ('H+E', sub_image['id']['#text'], sub_image['section-number']['#text']) )\n",
    "                except:\n",
    "                    pass\n",
    "                \n",
    "    for i,a in enumerate(out):\n",
    "        a = out[i]\n",
    "        out[i] = ( a[0], int(a[1]), int(a[2]) )\n",
    "        \n",
    "    return sorted( out, key=lambda x: x[2] )"
   ]
  },
  {
   "cell_type": "code",
   "execution_count": 170,
   "metadata": {},
   "outputs": [
    {
     "data": {
      "text/plain": [
       "[('H+E', 292324585, 2),\n",
       " ('TGFBR2', 287502780, 3),\n",
       " ('BIRC5', 287502729, 4),\n",
       " ('H+E', 292324567, 5),\n",
       " ('TNFAIP3', 287502677, 6),\n",
       " ('HIF1A', 287502626, 7),\n",
       " ('H+E', 292324549, 8),\n",
       " ('ITGA6', 287502574, 9),\n",
       " ('OLIG2', 287502523, 10),\n",
       " ('H+E', 292324519, 11),\n",
       " ('ID1', 287502472, 12),\n",
       " ('PDGFRA', 287502419, 13),\n",
       " ('H+E', 292324711, 14),\n",
       " ('POSTN', 287502368, 15),\n",
       " ('PROM1', 287502317, 16),\n",
       " ('H+E', 292324693, 17),\n",
       " ('EZH2', 287502266, 18),\n",
       " ('DANCR', 287502215, 19),\n",
       " ('H+E', 292324675, 20),\n",
       " ('NOS2', 287502164, 21),\n",
       " ('CD44', 287502113, 22),\n",
       " ('H+E', 292324657, 23),\n",
       " ('IGFBP2', 287502061, 24),\n",
       " ('MET', 287502010, 25),\n",
       " ('H+E', 292324639, 26),\n",
       " ('MYC', 287501958, 27),\n",
       " ('ID2', 287501907, 28),\n",
       " ('H+E', 292324621, 29),\n",
       " ('PDPN', 287501856, 30),\n",
       " ('PI3', 287501805, 31),\n",
       " ('H+E', 292324603, 32)]"
      ]
     },
     "execution_count": 170,
     "metadata": {},
     "output_type": "execute_result"
    }
   ],
   "source": [
    "get_all_section_images( specimen='W1-1-2-A.1.02' )"
   ]
  },
  {
   "cell_type": "code",
   "execution_count": 67,
   "metadata": {},
   "outputs": [],
   "source": [
    "def download_image_from_id( id_str, name=None, feature_map=False ):\n",
    "    if not name:\n",
    "        name = id_str\n",
    "        \n",
    "    url = \"http://api.brain-map.org/api/v2/image_download/{}\".format(id_str)\n",
    "    if feature_map:\n",
    "        url += '?view=tumor_feature_annotation'\n",
    "        \n",
    "    urllib.request.urlretrieve(url, \"{}.jpg\".format(name))"
   ]
  },
  {
   "cell_type": "code",
   "execution_count": 129,
   "metadata": {},
   "outputs": [],
   "source": [
    "download_image_from_id( '292324238',feature_map=True )"
   ]
  },
  {
   "cell_type": "code",
   "execution_count": 176,
   "metadata": {},
   "outputs": [
    {
     "name": "stdout",
     "output_type": "stream",
     "text": [
      "[1, 4, 9]\n"
     ]
    }
   ],
   "source": [
    "from multiprocessing import Pool\n",
    "\n",
    "def f(x):\n",
    "    return x*x\n",
    "\n",
    "if __name__ == '__main__':\n",
    "    with Pool(5) as p:\n",
    "        print(p.map(f, [1, 2, 3]))"
   ]
  },
  {
   "cell_type": "code",
   "execution_count": null,
   "metadata": {},
   "outputs": [],
   "source": []
  }
 ],
 "metadata": {
  "kernelspec": {
   "display_name": "Python 3",
   "language": "python",
   "name": "python3"
  },
  "language_info": {
   "codemirror_mode": {
    "name": "ipython",
    "version": 3
   },
   "file_extension": ".py",
   "mimetype": "text/x-python",
   "name": "python",
   "nbconvert_exporter": "python",
   "pygments_lexer": "ipython3",
   "version": "3.7.6"
  }
 },
 "nbformat": 4,
 "nbformat_minor": 4
}
