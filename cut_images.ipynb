{
 "cells": [
  {
   "cell_type": "code",
   "execution_count": 1,
   "metadata": {},
   "outputs": [],
   "source": [
    "from glob import glob\n",
    "from collections import defaultdict, Counter\n",
    "\n",
    "import PIL\n",
    "import PIL.Image\n",
    "import numpy as np\n",
    "PIL.Image.MAX_IMAGE_PIXELS = 3000000000\n",
    "\n",
    "import os.path\n",
    "from tqdm import tqdm"
   ]
  },
  {
   "cell_type": "code",
   "execution_count": 2,
   "metadata": {},
   "outputs": [],
   "source": [
    "TILE_SIZE = 256"
   ]
  },
  {
   "cell_type": "code",
   "execution_count": 3,
   "metadata": {},
   "outputs": [
    {
     "name": "stdout",
     "output_type": "stream",
     "text": [
      "['W1-1-2-A.1.01.GENE_BIRC5.SLICE_4.MAP.jpg', 'W1-1-2-A.1.01.GENE_BIRC5.SLICE_4.jpg']\n"
     ]
    }
   ],
   "source": [
    "data_files = sorted( [ x.replace( 'data_tmp/', '' ) for x in glob( 'data_tmp/*' ) ] )\n",
    "print( data_files[:2] )\n",
    "all_genes = Counter()\n",
    "\n",
    "#split by tissue\n",
    "tmp = defaultdict( lambda: [] )\n",
    "for i in data_files:\n",
    "    if 'MAP' in i:\n",
    "        continue\n",
    "    i = i.split('.GENE_')\n",
    "    tmp[ i[0] ].append(  i[1].replace( '.jpg', '' ) )\n",
    "data_files = dict( tmp )\n",
    "\n",
    "for key in data_files.keys():\n",
    "    new = defaultdict( lambda:[] )\n",
    "    for i in data_files[key]:\n",
    "        i = i.split('.SLICE_')\n",
    "        new[i[0]].append( int(i[1]) )\n",
    "        all_genes.update( [ i[0] ] )\n",
    "    data_files[key] = dict( new )\n",
    "    "
   ]
  },
  {
   "cell_type": "code",
   "execution_count": 4,
   "metadata": {},
   "outputs": [
    {
     "data": {
      "text/plain": [
       "[('H+E', 11368), ('TGFBR2', 631), ('MET', 624), ('CD44', 608), ('HIF1A', 608)]"
      ]
     },
     "execution_count": 4,
     "metadata": {},
     "output_type": "execute_result"
    }
   ],
   "source": [
    "all_genes.most_common(5)"
   ]
  },
  {
   "cell_type": "code",
   "execution_count": 5,
   "metadata": {},
   "outputs": [],
   "source": [
    "def make_file_list( t_list ):\n",
    "    # 'W1-1-2-A.1.01.GENE_BIRC5.SLICE_4.MAP.jpg'\n",
    "    out = []\n",
    "    \n",
    "    target_root = '{}.GENE_{}.SLICE_{}'.format(t_list[0], t_list[1], str(t_list[2]))\n",
    "    out.append( target_root+'.jpg' )\n",
    "    out.append( target_root+'.MAP.jpg' )\n",
    "    \n",
    "    HE_root = '{}.GENE_{}.SLICE_{}'.format(t_list[0], t_list[3], str(t_list[4]))\n",
    "    out.append( HE_root+'.jpg' )\n",
    "    out.append( HE_root+'.MAP.jpg' )\n",
    "    \n",
    "    for f in out:\n",
    "        if not os.path.isfile('data_tmp/'+f):\n",
    "            return None\n",
    "    \n",
    "    return out"
   ]
  },
  {
   "cell_type": "code",
   "execution_count": 6,
   "metadata": {},
   "outputs": [],
   "source": [
    "def make_target_list( target_name ):\n",
    "    '''returns list of pairs (target+HE) images that need\n",
    "    to be analyzed for a given gene'''\n",
    "    \n",
    "    out = []\n",
    "    \n",
    "    for sample in data_files.keys(): #iterate over all samples\n",
    "        if target_name not in data_files[sample] or not len(data_files[sample][target_name]):\n",
    "            continue\n",
    "        if 'H+E' not in data_files[sample] or not len(data_files[sample]['H+E']):\n",
    "            continue\n",
    "        \n",
    "        target_slides = data_files[sample][target_name]\n",
    "        HE_slides = data_files[sample]['H+E']\n",
    "        \n",
    "        for target_slide in target_slides:\n",
    "            HE_match = min( (abs(target_slide-x),x) for x in HE_slides )[1]\n",
    "            f_list = make_file_list( (sample, target_name, target_slide, 'H+E', HE_match) )\n",
    "            if f_list:\n",
    "                out.append( f_list )\n",
    "    \n",
    "    return out"
   ]
  },
  {
   "cell_type": "code",
   "execution_count": 33,
   "metadata": {},
   "outputs": [],
   "source": [
    "def read_image( f ):\n",
    "    f = 'data_tmp/' + f\n",
    "    return np.array( PIL.Image.open(f) )\n",
    "\n",
    "def cut_image( t, tm, h, hm, fname=\"test.jpg\" ):\n",
    "    OUT_NUM = 1\n",
    "    t  = read_image( t  )\n",
    "    tm = read_image( tm )\n",
    "    h  = read_image( h  )\n",
    "    hm = read_image( hm )\n",
    "\n",
    "    print( t.shape, tm.shape, h.shape, hm.shape )\n",
    "    \n",
    "    for dx in range(0, t.shape[0], TILE_SIZE):\n",
    "        for dy in range(0, t.shape[1], TILE_SIZE):\n",
    "            t_tile = t[dx:dx+TILE_SIZE,dy:dy+TILE_SIZE,:]\n",
    "            tm_tile = tm[dx:dx+TILE_SIZE,dy:dy+TILE_SIZE,:]\n",
    "            h_tile = h[dx:dx+TILE_SIZE,dy:dy+TILE_SIZE,:]\n",
    "            hm_tile = hm[dx:dx+TILE_SIZE,dy:dy+TILE_SIZE,:]\n",
    "            \n",
    "            #print( t_tile.shape, tm_tile.shape, h_tile.shape, hm_tile.shape)\n",
    "            \n",
    "            if not (t_tile.shape[0]==tm_tile.shape[0]==h_tile.shape[0]==hm_tile.shape[0]==TILE_SIZE):\n",
    "                continue\n",
    "            if not (t_tile.shape[1]==tm_tile.shape[1]==h_tile.shape[1]==hm_tile.shape[1]==TILE_SIZE):\n",
    "                continue\n",
    "                \n",
    "            #check map for valid tile (right now just checking for white pixels)\n",
    "            '''is_white = False\n",
    "            for x in range( TILE_SIZE ):\n",
    "                for y in range( TILE_SIZE ):\n",
    "                    if all( x==255 for x in tm_tile[x,y,:] ):\n",
    "                        is_white = True\n",
    "                    if all( x==0 for x in tm_tile[x,y,:] ):\n",
    "                        is_white = True\n",
    "            if is_white:\n",
    "                continue'''\n",
    "            \n",
    "            if( np.any( np.all( tm_tile==0, axis=0 ) ) ):\n",
    "                continue\n",
    "            if( np.any( np.all( tm_tile==255, axis=0 ) ) ):\n",
    "                continue\n",
    "                \n",
    "            #output stiched image tile (y,x,c)\n",
    "            out = np.zeros( shape=(TILE_SIZE,TILE_SIZE*2,3), dtype=np.uint8 )\n",
    "            out[:,0:TILE_SIZE,:] = t_tile[:,:,:]\n",
    "            out[:,TILE_SIZE:,:] = h_tile[:,:,:]\n",
    "            \n",
    "            #save image\n",
    "            img = PIL.Image.fromarray(out)\n",
    "            img.save(fname.replace('XXX', str(OUT_NUM)), \"JPEG\", quality=100, optimize=True, progressive=True)\n",
    "            OUT_NUM += 1\n",
    "            del img\n",
    "            \n",
    "    del t, tm, h, hm"
   ]
  },
  {
   "cell_type": "code",
   "execution_count": 35,
   "metadata": {},
   "outputs": [
    {
     "name": "stderr",
     "output_type": "stream",
     "text": [
      "0it [00:00, ?it/s]"
     ]
    },
    {
     "name": "stdout",
     "output_type": "stream",
     "text": [
      "(18080, 15040, 3) (18080, 15040, 3) (18080, 15040, 3) (18080, 15040, 3)\n"
     ]
    },
    {
     "name": "stderr",
     "output_type": "stream",
     "text": [
      "1it [01:30, 90.81s/it]"
     ]
    },
    {
     "name": "stdout",
     "output_type": "stream",
     "text": [
      "(18080, 15040, 3) (18080, 15040, 3) (18080, 15040, 3) (18080, 15040, 3)\n"
     ]
    },
    {
     "name": "stderr",
     "output_type": "stream",
     "text": [
      "2it [03:01, 90.87s/it]"
     ]
    },
    {
     "name": "stdout",
     "output_type": "stream",
     "text": [
      "(18080, 15040, 3) (18080, 15040, 3) (18080, 15040, 3) (18080, 15040, 3)\n"
     ]
    },
    {
     "name": "stderr",
     "output_type": "stream",
     "text": [
      "3it [04:40, 93.19s/it]"
     ]
    },
    {
     "name": "stdout",
     "output_type": "stream",
     "text": [
      "(18080, 15040, 3) (18080, 15040, 3) (18080, 15040, 3) (18080, 15040, 3)\n"
     ]
    },
    {
     "name": "stderr",
     "output_type": "stream",
     "text": [
      "4it [06:20, 95.14s/it]"
     ]
    },
    {
     "name": "stdout",
     "output_type": "stream",
     "text": [
      "(18080, 15040, 3) (18080, 15040, 3) (18080, 15040, 3) (18080, 15040, 3)\n"
     ]
    },
    {
     "name": "stderr",
     "output_type": "stream",
     "text": [
      "5it [08:03, 97.71s/it]"
     ]
    },
    {
     "name": "stdout",
     "output_type": "stream",
     "text": [
      "(18080, 15040, 3) (18080, 15040, 3) (18080, 15040, 3) (18080, 15040, 3)\n"
     ]
    },
    {
     "name": "stderr",
     "output_type": "stream",
     "text": [
      "6it [09:42, 97.98s/it]"
     ]
    },
    {
     "name": "stdout",
     "output_type": "stream",
     "text": [
      "(18080, 15040, 3) (18080, 15040, 3) (18080, 15040, 3) (18080, 15040, 3)\n"
     ]
    },
    {
     "name": "stderr",
     "output_type": "stream",
     "text": [
      "7it [11:14, 96.32s/it]"
     ]
    },
    {
     "name": "stdout",
     "output_type": "stream",
     "text": [
      "(18080, 15040, 3) (18080, 15040, 3) (18080, 15040, 3) (18080, 15040, 3)\n"
     ]
    },
    {
     "name": "stderr",
     "output_type": "stream",
     "text": [
      "8it [12:42, 93.72s/it]"
     ]
    },
    {
     "name": "stdout",
     "output_type": "stream",
     "text": [
      "(18080, 15040, 3) (18080, 15040, 3) (18080, 15040, 3) (18080, 15040, 3)\n"
     ]
    },
    {
     "name": "stderr",
     "output_type": "stream",
     "text": [
      "9it [14:18, 94.41s/it]"
     ]
    },
    {
     "name": "stdout",
     "output_type": "stream",
     "text": [
      "(18080, 15040, 3) (18080, 15040, 3) (18080, 15040, 3) (18080, 15040, 3)\n"
     ]
    },
    {
     "name": "stderr",
     "output_type": "stream",
     "text": [
      "10it [15:55, 95.05s/it]"
     ]
    },
    {
     "name": "stdout",
     "output_type": "stream",
     "text": [
      "(18080, 15040, 3) (18080, 15040, 3) (18176, 15104, 3) (18176, 15104, 3)\n"
     ]
    },
    {
     "name": "stderr",
     "output_type": "stream",
     "text": [
      "11it [17:16, 91.01s/it]"
     ]
    },
    {
     "name": "stdout",
     "output_type": "stream",
     "text": [
      "(18080, 15040, 3) (18080, 15040, 3) (18080, 15040, 3) (18080, 15040, 3)\n"
     ]
    },
    {
     "name": "stderr",
     "output_type": "stream",
     "text": [
      "12it [18:50, 91.86s/it]"
     ]
    },
    {
     "name": "stdout",
     "output_type": "stream",
     "text": [
      "(18176, 15104, 3) (18176, 15104, 3) (18080, 15040, 3) (18080, 15040, 3)\n"
     ]
    },
    {
     "name": "stderr",
     "output_type": "stream",
     "text": [
      "13it [20:22, 92.01s/it]"
     ]
    },
    {
     "name": "stdout",
     "output_type": "stream",
     "text": [
      "(18080, 15040, 3) (18080, 15040, 3) (18176, 15104, 3) (18176, 15104, 3)\n"
     ]
    },
    {
     "name": "stderr",
     "output_type": "stream",
     "text": [
      "14it [21:45, 89.14s/it]"
     ]
    },
    {
     "name": "stdout",
     "output_type": "stream",
     "text": [
      "(18080, 15040, 3) (18080, 15040, 3) (18080, 15040, 3) (18080, 15040, 3)\n"
     ]
    },
    {
     "name": "stderr",
     "output_type": "stream",
     "text": [
      "15it [23:06, 86.63s/it]"
     ]
    },
    {
     "name": "stdout",
     "output_type": "stream",
     "text": [
      "(18080, 15040, 3) (18080, 15040, 3) (18080, 15040, 3) (18080, 15040, 3)\n"
     ]
    },
    {
     "name": "stderr",
     "output_type": "stream",
     "text": [
      "16it [24:35, 87.50s/it]"
     ]
    },
    {
     "name": "stdout",
     "output_type": "stream",
     "text": [
      "(18176, 15104, 3) (18176, 15104, 3) (18176, 15104, 3) (18176, 15104, 3)\n"
     ]
    },
    {
     "name": "stderr",
     "output_type": "stream",
     "text": [
      "17it [25:59, 86.46s/it]"
     ]
    },
    {
     "name": "stdout",
     "output_type": "stream",
     "text": [
      "(18080, 15040, 3) (18080, 15040, 3) (18080, 15040, 3) (18080, 15040, 3)\n"
     ]
    },
    {
     "name": "stderr",
     "output_type": "stream",
     "text": [
      "18it [27:11, 82.22s/it]"
     ]
    },
    {
     "name": "stdout",
     "output_type": "stream",
     "text": [
      "(18080, 15040, 3) (18080, 15040, 3) (18080, 15040, 3) (18080, 15040, 3)\n"
     ]
    },
    {
     "name": "stderr",
     "output_type": "stream",
     "text": [
      "19it [28:44, 85.26s/it]"
     ]
    },
    {
     "name": "stdout",
     "output_type": "stream",
     "text": [
      "(18080, 15040, 3) (18080, 15040, 3) (18080, 15040, 3) (18080, 15040, 3)\n"
     ]
    },
    {
     "name": "stderr",
     "output_type": "stream",
     "text": [
      "20it [29:16, 69.28s/it]"
     ]
    },
    {
     "name": "stdout",
     "output_type": "stream",
     "text": [
      "(18080, 15040, 3) (18080, 15040, 3) (18080, 15040, 3) (18080, 15040, 3)\n"
     ]
    },
    {
     "name": "stderr",
     "output_type": "stream",
     "text": [
      "21it [30:23, 68.71s/it]"
     ]
    },
    {
     "name": "stdout",
     "output_type": "stream",
     "text": [
      "(18080, 15040, 3) (18080, 15040, 3) (18080, 15040, 3) (18080, 15040, 3)\n"
     ]
    },
    {
     "name": "stderr",
     "output_type": "stream",
     "text": [
      "22it [31:39, 70.87s/it]"
     ]
    },
    {
     "name": "stdout",
     "output_type": "stream",
     "text": [
      "(18080, 15040, 3) (18080, 15040, 3) (18080, 15040, 3) (18080, 15040, 3)\n"
     ]
    },
    {
     "name": "stderr",
     "output_type": "stream",
     "text": [
      "23it [33:02, 74.41s/it]"
     ]
    },
    {
     "name": "stdout",
     "output_type": "stream",
     "text": [
      "(18080, 15040, 3) (18080, 15040, 3) (18080, 15040, 3) (18080, 15040, 3)\n"
     ]
    },
    {
     "name": "stderr",
     "output_type": "stream",
     "text": [
      "24it [34:28, 78.03s/it]"
     ]
    },
    {
     "name": "stdout",
     "output_type": "stream",
     "text": [
      "(18080, 15040, 3) (18080, 15040, 3) (18080, 15040, 3) (18080, 15040, 3)\n"
     ]
    },
    {
     "name": "stderr",
     "output_type": "stream",
     "text": [
      "25it [36:00, 82.27s/it]"
     ]
    },
    {
     "name": "stdout",
     "output_type": "stream",
     "text": [
      "(18080, 15040, 3) (18080, 15040, 3) (18080, 15040, 3) (18080, 15040, 3)\n"
     ]
    },
    {
     "name": "stderr",
     "output_type": "stream",
     "text": [
      "26it [37:15, 80.10s/it]"
     ]
    },
    {
     "name": "stdout",
     "output_type": "stream",
     "text": [
      "(18080, 15040, 3) (18080, 15040, 3) (18080, 15040, 3) (18080, 15040, 3)\n"
     ]
    },
    {
     "name": "stderr",
     "output_type": "stream",
     "text": [
      "27it [38:32, 79.15s/it]"
     ]
    },
    {
     "name": "stdout",
     "output_type": "stream",
     "text": [
      "(18080, 15040, 3) (18080, 15040, 3) (18080, 15040, 3) (18080, 15040, 3)\n"
     ]
    },
    {
     "name": "stderr",
     "output_type": "stream",
     "text": [
      "28it [39:46, 77.57s/it]"
     ]
    },
    {
     "name": "stdout",
     "output_type": "stream",
     "text": [
      "(18080, 15040, 3) (18080, 15040, 3) (18176, 15104, 3) (18176, 15104, 3)\n"
     ]
    },
    {
     "name": "stderr",
     "output_type": "stream",
     "text": [
      "29it [40:58, 75.73s/it]"
     ]
    },
    {
     "name": "stdout",
     "output_type": "stream",
     "text": [
      "(18176, 15104, 3) (18176, 15104, 3) (18176, 15104, 3) (18176, 15104, 3)\n"
     ]
    },
    {
     "name": "stderr",
     "output_type": "stream",
     "text": [
      "30it [41:56, 70.35s/it]"
     ]
    },
    {
     "name": "stdout",
     "output_type": "stream",
     "text": [
      "(18080, 15040, 3) (18080, 15040, 3) (18080, 15040, 3) (18080, 15040, 3)\n"
     ]
    },
    {
     "name": "stderr",
     "output_type": "stream",
     "text": [
      "31it [43:31, 77.78s/it]"
     ]
    },
    {
     "name": "stdout",
     "output_type": "stream",
     "text": [
      "(18080, 15040, 3) (18080, 15040, 3) (18080, 15040, 3) (18080, 15040, 3)\n"
     ]
    },
    {
     "name": "stderr",
     "output_type": "stream",
     "text": [
      "32it [45:02, 81.98s/it]"
     ]
    },
    {
     "name": "stdout",
     "output_type": "stream",
     "text": [
      "(18080, 15040, 3) (18080, 15040, 3) (18176, 15104, 3) (18176, 15104, 3)\n"
     ]
    },
    {
     "name": "stderr",
     "output_type": "stream",
     "text": [
      "33it [46:44, 87.78s/it]"
     ]
    },
    {
     "name": "stdout",
     "output_type": "stream",
     "text": [
      "(18080, 15040, 3) (18080, 15040, 3) (18080, 15040, 3) (18080, 15040, 3)\n"
     ]
    },
    {
     "name": "stderr",
     "output_type": "stream",
     "text": [
      "34it [48:20, 90.42s/it]"
     ]
    },
    {
     "name": "stdout",
     "output_type": "stream",
     "text": [
      "(18080, 15040, 3) (18080, 15040, 3) (18176, 15104, 3) (18176, 15104, 3)\n"
     ]
    },
    {
     "name": "stderr",
     "output_type": "stream",
     "text": [
      "35it [49:48, 89.74s/it]"
     ]
    },
    {
     "name": "stdout",
     "output_type": "stream",
     "text": [
      "(18080, 15040, 3) (18080, 15040, 3) (18080, 15040, 3) (18080, 15040, 3)\n"
     ]
    },
    {
     "name": "stderr",
     "output_type": "stream",
     "text": [
      "36it [51:16, 89.19s/it]"
     ]
    },
    {
     "name": "stdout",
     "output_type": "stream",
     "text": [
      "(18080, 15040, 3) (18080, 15040, 3) (18080, 15040, 3) (18080, 15040, 3)\n"
     ]
    },
    {
     "name": "stderr",
     "output_type": "stream",
     "text": [
      "37it [52:52, 91.03s/it]"
     ]
    },
    {
     "name": "stdout",
     "output_type": "stream",
     "text": [
      "(18080, 15040, 3) (18080, 15040, 3) (18080, 15040, 3) (18080, 15040, 3)\n"
     ]
    },
    {
     "name": "stderr",
     "output_type": "stream",
     "text": [
      "38it [54:25, 91.85s/it]"
     ]
    },
    {
     "name": "stdout",
     "output_type": "stream",
     "text": [
      "(18080, 15040, 3) (18080, 15040, 3) (18080, 15040, 3) (18080, 15040, 3)\n"
     ]
    },
    {
     "name": "stderr",
     "output_type": "stream",
     "text": [
      "39it [55:55, 91.25s/it]"
     ]
    },
    {
     "name": "stdout",
     "output_type": "stream",
     "text": [
      "(18176, 15104, 3) (18176, 15104, 3) (18080, 15040, 3) (18080, 15040, 3)\n"
     ]
    },
    {
     "name": "stderr",
     "output_type": "stream",
     "text": [
      "40it [57:29, 92.01s/it]"
     ]
    },
    {
     "name": "stdout",
     "output_type": "stream",
     "text": [
      "(18080, 15040, 3) (18080, 15040, 3) (18080, 15040, 3) (18080, 15040, 3)\n"
     ]
    },
    {
     "name": "stderr",
     "output_type": "stream",
     "text": [
      "41it [59:07, 93.91s/it]"
     ]
    },
    {
     "name": "stdout",
     "output_type": "stream",
     "text": [
      "(18080, 15040, 3) (18080, 15040, 3) (18080, 15040, 3) (18080, 15040, 3)\n"
     ]
    },
    {
     "name": "stderr",
     "output_type": "stream",
     "text": [
      "42it [1:00:51, 96.81s/it]"
     ]
    },
    {
     "name": "stdout",
     "output_type": "stream",
     "text": [
      "(18080, 15040, 3) (18080, 15040, 3) (18080, 15040, 3) (18080, 15040, 3)\n"
     ]
    },
    {
     "name": "stderr",
     "output_type": "stream",
     "text": [
      "43it [1:02:38, 99.97s/it]"
     ]
    },
    {
     "name": "stdout",
     "output_type": "stream",
     "text": [
      "(18080, 15040, 3) (18080, 15040, 3) (18080, 15040, 3) (18080, 15040, 3)\n"
     ]
    },
    {
     "name": "stderr",
     "output_type": "stream",
     "text": [
      "44it [1:04:25, 102.01s/it]"
     ]
    },
    {
     "name": "stdout",
     "output_type": "stream",
     "text": [
      "(18080, 15040, 3) (18080, 15040, 3) (18080, 15040, 3) (18080, 15040, 3)\n"
     ]
    },
    {
     "name": "stderr",
     "output_type": "stream",
     "text": [
      "45it [1:05:56, 98.75s/it] "
     ]
    },
    {
     "name": "stdout",
     "output_type": "stream",
     "text": [
      "(18080, 15040, 3) (18080, 15040, 3) (18080, 15040, 3) (18080, 15040, 3)\n"
     ]
    },
    {
     "name": "stderr",
     "output_type": "stream",
     "text": [
      "46it [1:07:34, 98.45s/it]"
     ]
    },
    {
     "name": "stdout",
     "output_type": "stream",
     "text": [
      "(18176, 15104, 3) (18176, 15104, 3) (18080, 15040, 3) (18080, 15040, 3)\n"
     ]
    },
    {
     "name": "stderr",
     "output_type": "stream",
     "text": [
      "47it [1:08:39, 88.37s/it]"
     ]
    },
    {
     "name": "stdout",
     "output_type": "stream",
     "text": [
      "(18080, 15040, 3) (18080, 15040, 3) (18080, 15040, 3) (18080, 15040, 3)\n"
     ]
    },
    {
     "name": "stderr",
     "output_type": "stream",
     "text": [
      "48it [1:09:46, 82.11s/it]"
     ]
    },
    {
     "name": "stdout",
     "output_type": "stream",
     "text": [
      "(18176, 15104, 3) (18176, 15104, 3) (18080, 15040, 3) (18080, 15040, 3)\n"
     ]
    },
    {
     "name": "stderr",
     "output_type": "stream",
     "text": [
      "49it [1:11:26, 87.34s/it]"
     ]
    },
    {
     "name": "stdout",
     "output_type": "stream",
     "text": [
      "(18080, 15040, 3) (18080, 15040, 3) (18080, 15040, 3) (18080, 15040, 3)\n"
     ]
    },
    {
     "name": "stderr",
     "output_type": "stream",
     "text": [
      "50it [1:13:15, 93.77s/it]"
     ]
    },
    {
     "name": "stdout",
     "output_type": "stream",
     "text": [
      "(18080, 15040, 3) (18080, 15040, 3) (18176, 15104, 3) (18176, 15104, 3)\n"
     ]
    },
    {
     "name": "stderr",
     "output_type": "stream",
     "text": [
      "51it [1:15:00, 97.14s/it]"
     ]
    },
    {
     "name": "stdout",
     "output_type": "stream",
     "text": [
      "(18080, 15040, 3) (18080, 15040, 3) (18080, 15040, 3) (18080, 15040, 3)\n"
     ]
    },
    {
     "name": "stderr",
     "output_type": "stream",
     "text": [
      "52it [1:16:45, 99.63s/it]"
     ]
    },
    {
     "name": "stdout",
     "output_type": "stream",
     "text": [
      "(18080, 15040, 3) (18080, 15040, 3) (18080, 15040, 3) (18080, 15040, 3)\n"
     ]
    },
    {
     "name": "stderr",
     "output_type": "stream",
     "text": [
      "53it [1:18:34, 102.35s/it]"
     ]
    },
    {
     "name": "stdout",
     "output_type": "stream",
     "text": [
      "(18080, 15040, 3) (18080, 15040, 3) (18080, 15040, 3) (18080, 15040, 3)\n"
     ]
    },
    {
     "name": "stderr",
     "output_type": "stream",
     "text": [
      "54it [1:20:32, 107.07s/it]"
     ]
    },
    {
     "name": "stdout",
     "output_type": "stream",
     "text": [
      "(18080, 15040, 3) (18080, 15040, 3) (18080, 15040, 3) (18080, 15040, 3)\n"
     ]
    },
    {
     "name": "stderr",
     "output_type": "stream",
     "text": [
      "55it [1:22:18, 106.72s/it]"
     ]
    },
    {
     "name": "stdout",
     "output_type": "stream",
     "text": [
      "(18080, 15040, 3) (18080, 15040, 3) (18080, 15040, 3) (18080, 15040, 3)\n"
     ]
    },
    {
     "name": "stderr",
     "output_type": "stream",
     "text": [
      "56it [1:24:07, 107.40s/it]"
     ]
    },
    {
     "name": "stdout",
     "output_type": "stream",
     "text": [
      "(18080, 15040, 3) (18080, 15040, 3) (18080, 15040, 3) (18080, 15040, 3)\n"
     ]
    },
    {
     "name": "stderr",
     "output_type": "stream",
     "text": [
      "57it [1:25:50, 106.15s/it]"
     ]
    },
    {
     "name": "stdout",
     "output_type": "stream",
     "text": [
      "(18080, 15040, 3) (18080, 15040, 3) (18080, 15040, 3) (18080, 15040, 3)\n"
     ]
    },
    {
     "name": "stderr",
     "output_type": "stream",
     "text": [
      "58it [1:27:35, 105.91s/it]"
     ]
    },
    {
     "name": "stdout",
     "output_type": "stream",
     "text": [
      "(18080, 15040, 3) (18080, 15040, 3) (18080, 15040, 3) (18080, 15040, 3)\n"
     ]
    },
    {
     "name": "stderr",
     "output_type": "stream",
     "text": [
      "59it [1:29:19, 105.14s/it]"
     ]
    },
    {
     "name": "stdout",
     "output_type": "stream",
     "text": [
      "(18080, 15040, 3) (18080, 15040, 3) (18080, 15040, 3) (18080, 15040, 3)\n"
     ]
    },
    {
     "name": "stderr",
     "output_type": "stream",
     "text": [
      "60it [1:31:05, 105.57s/it]"
     ]
    },
    {
     "name": "stdout",
     "output_type": "stream",
     "text": [
      "(18080, 15040, 3) (18080, 15040, 3) (18080, 15040, 3) (18080, 15040, 3)\n"
     ]
    },
    {
     "name": "stderr",
     "output_type": "stream",
     "text": [
      "61it [1:32:30, 99.35s/it] "
     ]
    },
    {
     "name": "stdout",
     "output_type": "stream",
     "text": [
      "(18080, 15040, 3) (18080, 15040, 3) (18080, 15040, 3) (18080, 15040, 3)\n"
     ]
    },
    {
     "name": "stderr",
     "output_type": "stream",
     "text": [
      "62it [1:34:03, 97.48s/it]"
     ]
    },
    {
     "name": "stdout",
     "output_type": "stream",
     "text": [
      "(18080, 15040, 3) (18080, 15040, 3) (18080, 15040, 3) (18080, 15040, 3)\n"
     ]
    },
    {
     "name": "stderr",
     "output_type": "stream",
     "text": [
      "63it [1:35:31, 94.56s/it]"
     ]
    },
    {
     "name": "stdout",
     "output_type": "stream",
     "text": [
      "(18080, 15040, 3) (18080, 15040, 3) (18080, 15040, 3) (18080, 15040, 3)\n"
     ]
    },
    {
     "name": "stderr",
     "output_type": "stream",
     "text": [
      "64it [1:37:01, 93.22s/it]"
     ]
    },
    {
     "name": "stdout",
     "output_type": "stream",
     "text": [
      "(18080, 15040, 3) (18080, 15040, 3) (18080, 15040, 3) (18080, 15040, 3)\n"
     ]
    },
    {
     "name": "stderr",
     "output_type": "stream",
     "text": [
      "65it [1:38:37, 94.11s/it]"
     ]
    },
    {
     "name": "stdout",
     "output_type": "stream",
     "text": [
      "(18080, 15040, 3) (18080, 15040, 3) (18080, 15040, 3) (18080, 15040, 3)\n"
     ]
    },
    {
     "name": "stderr",
     "output_type": "stream",
     "text": [
      "66it [1:40:15, 95.11s/it]"
     ]
    },
    {
     "name": "stdout",
     "output_type": "stream",
     "text": [
      "(18080, 15040, 3) (18080, 15040, 3) (18176, 15104, 3) (18176, 15104, 3)\n"
     ]
    },
    {
     "name": "stderr",
     "output_type": "stream",
     "text": [
      "67it [1:41:37, 91.31s/it]"
     ]
    },
    {
     "name": "stdout",
     "output_type": "stream",
     "text": [
      "(18080, 15040, 3) (18080, 15040, 3) (18080, 15040, 3) (18080, 15040, 3)\n"
     ]
    },
    {
     "name": "stderr",
     "output_type": "stream",
     "text": [
      "68it [1:43:00, 88.82s/it]"
     ]
    },
    {
     "name": "stdout",
     "output_type": "stream",
     "text": [
      "(18080, 15040, 3) (18080, 15040, 3) (18080, 15040, 3) (18080, 15040, 3)\n"
     ]
    },
    {
     "name": "stderr",
     "output_type": "stream",
     "text": [
      "69it [1:44:33, 89.92s/it]"
     ]
    },
    {
     "name": "stdout",
     "output_type": "stream",
     "text": [
      "(18080, 15040, 3) (18080, 15040, 3) (18080, 15040, 3) (18080, 15040, 3)\n"
     ]
    },
    {
     "name": "stderr",
     "output_type": "stream",
     "text": [
      "70it [1:46:12, 92.63s/it]"
     ]
    },
    {
     "name": "stdout",
     "output_type": "stream",
     "text": [
      "(18080, 15040, 3) (18080, 15040, 3) (18176, 15104, 3) (18176, 15104, 3)\n"
     ]
    },
    {
     "name": "stderr",
     "output_type": "stream",
     "text": [
      "71it [1:47:51, 94.70s/it]"
     ]
    },
    {
     "name": "stdout",
     "output_type": "stream",
     "text": [
      "(18080, 15040, 3) (18080, 15040, 3) (18176, 15104, 3) (18176, 15104, 3)\n"
     ]
    },
    {
     "name": "stderr",
     "output_type": "stream",
     "text": [
      "72it [1:49:30, 95.94s/it]"
     ]
    },
    {
     "name": "stdout",
     "output_type": "stream",
     "text": [
      "(18080, 15040, 3) (18080, 15040, 3) (18080, 15040, 3) (18080, 15040, 3)\n"
     ]
    },
    {
     "name": "stderr",
     "output_type": "stream",
     "text": [
      "73it [1:51:15, 98.80s/it]"
     ]
    },
    {
     "name": "stdout",
     "output_type": "stream",
     "text": [
      "(18080, 15040, 3) (18080, 15040, 3) (18080, 15040, 3) (18080, 15040, 3)\n"
     ]
    },
    {
     "name": "stderr",
     "output_type": "stream",
     "text": [
      "74it [1:52:57, 99.69s/it]"
     ]
    },
    {
     "name": "stdout",
     "output_type": "stream",
     "text": [
      "(18080, 15040, 3) (18080, 15040, 3) (18080, 15040, 3) (18080, 15040, 3)\n"
     ]
    },
    {
     "name": "stderr",
     "output_type": "stream",
     "text": [
      "75it [1:54:44, 101.92s/it]"
     ]
    },
    {
     "name": "stdout",
     "output_type": "stream",
     "text": [
      "(18080, 15040, 3) (18080, 15040, 3) (18080, 15040, 3) (18080, 15040, 3)\n"
     ]
    },
    {
     "name": "stderr",
     "output_type": "stream",
     "text": [
      "76it [1:56:30, 102.99s/it]"
     ]
    },
    {
     "name": "stdout",
     "output_type": "stream",
     "text": [
      "(18080, 15040, 3) (18080, 15040, 3) (18080, 15040, 3) (18080, 15040, 3)\n"
     ]
    },
    {
     "name": "stderr",
     "output_type": "stream",
     "text": [
      "77it [1:58:05, 100.67s/it]"
     ]
    },
    {
     "name": "stdout",
     "output_type": "stream",
     "text": [
      "(18080, 15040, 3) (18080, 15040, 3) (18080, 15040, 3) (18080, 15040, 3)\n"
     ]
    },
    {
     "name": "stderr",
     "output_type": "stream",
     "text": [
      "78it [1:59:44, 100.11s/it]"
     ]
    },
    {
     "name": "stdout",
     "output_type": "stream",
     "text": [
      "(18080, 15040, 3) (18080, 15040, 3) (18080, 15040, 3) (18080, 15040, 3)\n"
     ]
    },
    {
     "name": "stderr",
     "output_type": "stream",
     "text": [
      "79it [2:01:26, 100.80s/it]"
     ]
    },
    {
     "name": "stdout",
     "output_type": "stream",
     "text": [
      "(18080, 15040, 3) (18080, 15040, 3) (18080, 15040, 3) (18080, 15040, 3)\n"
     ]
    },
    {
     "name": "stderr",
     "output_type": "stream",
     "text": [
      "80it [2:03:12, 102.34s/it]"
     ]
    },
    {
     "name": "stdout",
     "output_type": "stream",
     "text": [
      "(18176, 15104, 3) (18176, 15104, 3) (18176, 15104, 3) (18176, 15104, 3)\n"
     ]
    },
    {
     "name": "stderr",
     "output_type": "stream",
     "text": [
      "81it [2:04:52, 101.65s/it]"
     ]
    },
    {
     "name": "stdout",
     "output_type": "stream",
     "text": [
      "(18080, 15040, 3) (18080, 15040, 3) (18080, 15040, 3) (18080, 15040, 3)\n"
     ]
    },
    {
     "name": "stderr",
     "output_type": "stream",
     "text": [
      "82it [2:06:37, 102.60s/it]"
     ]
    },
    {
     "name": "stdout",
     "output_type": "stream",
     "text": [
      "(18176, 15104, 3) (18176, 15104, 3) (18080, 15040, 3) (18080, 15040, 3)\n"
     ]
    },
    {
     "name": "stderr",
     "output_type": "stream",
     "text": [
      "83it [2:08:02, 97.32s/it] "
     ]
    },
    {
     "name": "stdout",
     "output_type": "stream",
     "text": [
      "(18080, 15040, 3) (18080, 15040, 3) (18080, 15040, 3) (18080, 15040, 3)\n"
     ]
    },
    {
     "name": "stderr",
     "output_type": "stream",
     "text": [
      "84it [2:09:47, 99.56s/it]"
     ]
    },
    {
     "name": "stdout",
     "output_type": "stream",
     "text": [
      "(18176, 15104, 3) (18176, 15104, 3) (18080, 15040, 3) (18080, 15040, 3)\n"
     ]
    },
    {
     "name": "stderr",
     "output_type": "stream",
     "text": [
      "85it [2:11:32, 101.35s/it]"
     ]
    },
    {
     "name": "stdout",
     "output_type": "stream",
     "text": [
      "(18080, 15040, 3) (18080, 15040, 3) (18080, 15040, 3) (18080, 15040, 3)\n"
     ]
    },
    {
     "name": "stderr",
     "output_type": "stream",
     "text": [
      "86it [2:13:20, 103.09s/it]"
     ]
    },
    {
     "name": "stdout",
     "output_type": "stream",
     "text": [
      "(18176, 15104, 3) (18176, 15104, 3) (18080, 15040, 3) (18080, 15040, 3)\n"
     ]
    },
    {
     "name": "stderr",
     "output_type": "stream",
     "text": [
      "87it [2:14:52, 99.95s/it] "
     ]
    },
    {
     "name": "stdout",
     "output_type": "stream",
     "text": [
      "(18080, 15040, 3) (18080, 15040, 3) (18080, 15040, 3) (18080, 15040, 3)\n"
     ]
    },
    {
     "name": "stderr",
     "output_type": "stream",
     "text": [
      "88it [2:16:39, 101.99s/it]"
     ]
    },
    {
     "name": "stdout",
     "output_type": "stream",
     "text": [
      "(18176, 15104, 3) (18176, 15104, 3) (18080, 15040, 3) (18080, 15040, 3)\n"
     ]
    },
    {
     "name": "stderr",
     "output_type": "stream",
     "text": [
      "89it [2:18:05, 97.27s/it] "
     ]
    },
    {
     "name": "stdout",
     "output_type": "stream",
     "text": [
      "(18080, 15040, 3) (18080, 15040, 3) (18080, 15040, 3) (18080, 15040, 3)\n"
     ]
    },
    {
     "name": "stderr",
     "output_type": "stream",
     "text": [
      "90it [2:19:36, 95.38s/it]"
     ]
    },
    {
     "name": "stdout",
     "output_type": "stream",
     "text": [
      "(18080, 15040, 3) (18080, 15040, 3) (18080, 15040, 3) (18080, 15040, 3)\n"
     ]
    },
    {
     "name": "stderr",
     "output_type": "stream",
     "text": [
      "91it [2:21:03, 92.91s/it]"
     ]
    },
    {
     "name": "stdout",
     "output_type": "stream",
     "text": [
      "(18080, 15040, 3) (18080, 15040, 3) (18080, 15040, 3) (18080, 15040, 3)\n"
     ]
    },
    {
     "name": "stderr",
     "output_type": "stream",
     "text": [
      "92it [2:22:37, 93.10s/it]"
     ]
    },
    {
     "name": "stdout",
     "output_type": "stream",
     "text": [
      "(18080, 15040, 3) (18080, 15040, 3) (18080, 15040, 3) (18080, 15040, 3)\n"
     ]
    },
    {
     "name": "stderr",
     "output_type": "stream",
     "text": [
      "93it [2:24:18, 95.66s/it]"
     ]
    },
    {
     "name": "stdout",
     "output_type": "stream",
     "text": [
      "(18080, 15040, 3) (18080, 15040, 3) (18080, 15040, 3) (18080, 15040, 3)\n"
     ]
    },
    {
     "name": "stderr",
     "output_type": "stream",
     "text": [
      "94it [2:26:03, 98.23s/it]"
     ]
    },
    {
     "name": "stdout",
     "output_type": "stream",
     "text": [
      "(18176, 15104, 3) (18176, 15104, 3) (18080, 15040, 3) (18080, 15040, 3)\n"
     ]
    },
    {
     "name": "stderr",
     "output_type": "stream",
     "text": [
      "95it [2:27:39, 97.78s/it]"
     ]
    },
    {
     "name": "stdout",
     "output_type": "stream",
     "text": [
      "(18080, 15040, 3) (18080, 15040, 3) (18080, 15040, 3) (18080, 15040, 3)\n"
     ]
    },
    {
     "name": "stderr",
     "output_type": "stream",
     "text": [
      "96it [2:29:23, 99.55s/it]"
     ]
    },
    {
     "name": "stdout",
     "output_type": "stream",
     "text": [
      "(18080, 15040, 3) (18080, 15040, 3) (18080, 15040, 3) (18080, 15040, 3)\n"
     ]
    },
    {
     "name": "stderr",
     "output_type": "stream",
     "text": [
      "97it [2:31:12, 102.37s/it]"
     ]
    },
    {
     "name": "stdout",
     "output_type": "stream",
     "text": [
      "(18080, 15040, 3) (18080, 15040, 3) (18080, 15040, 3) (18080, 15040, 3)\n"
     ]
    },
    {
     "name": "stderr",
     "output_type": "stream",
     "text": [
      "98it [2:32:56, 102.74s/it]"
     ]
    },
    {
     "name": "stdout",
     "output_type": "stream",
     "text": [
      "(18080, 15040, 3) (18080, 15040, 3) (18080, 15040, 3) (18080, 15040, 3)\n"
     ]
    },
    {
     "name": "stderr",
     "output_type": "stream",
     "text": [
      "99it [2:34:42, 103.83s/it]"
     ]
    },
    {
     "name": "stdout",
     "output_type": "stream",
     "text": [
      "(18080, 15040, 3) (18080, 15040, 3) (18080, 15040, 3) (18080, 15040, 3)\n"
     ]
    },
    {
     "name": "stderr",
     "output_type": "stream",
     "text": [
      "100it [2:36:26, 103.91s/it]"
     ]
    },
    {
     "name": "stdout",
     "output_type": "stream",
     "text": [
      "(18080, 15040, 3) (18080, 15040, 3) (18080, 15040, 3) (18080, 15040, 3)\n"
     ]
    },
    {
     "name": "stderr",
     "output_type": "stream",
     "text": [
      "101it [2:38:00, 101.02s/it]"
     ]
    },
    {
     "name": "stdout",
     "output_type": "stream",
     "text": [
      "(18080, 15040, 3) (18080, 15040, 3) (18080, 15040, 3) (18080, 15040, 3)\n"
     ]
    },
    {
     "name": "stderr",
     "output_type": "stream",
     "text": [
      "102it [2:39:29, 97.34s/it] "
     ]
    },
    {
     "name": "stdout",
     "output_type": "stream",
     "text": [
      "(18080, 15040, 3) (18080, 15040, 3) (18176, 15104, 3) (18176, 15104, 3)\n"
     ]
    },
    {
     "name": "stderr",
     "output_type": "stream",
     "text": [
      "103it [2:41:05, 96.95s/it]"
     ]
    },
    {
     "name": "stdout",
     "output_type": "stream",
     "text": [
      "(18080, 15040, 3) (18080, 15040, 3) (18176, 15104, 3) (18176, 15104, 3)\n"
     ]
    },
    {
     "name": "stderr",
     "output_type": "stream",
     "text": [
      "104it [2:42:43, 97.24s/it]"
     ]
    },
    {
     "name": "stdout",
     "output_type": "stream",
     "text": [
      "(18080, 15040, 3) (18080, 15040, 3) (18080, 15040, 3) (18080, 15040, 3)\n"
     ]
    },
    {
     "name": "stderr",
     "output_type": "stream",
     "text": [
      "105it [2:44:22, 97.77s/it]"
     ]
    },
    {
     "name": "stdout",
     "output_type": "stream",
     "text": [
      "(18080, 15040, 3) (18080, 15040, 3) (18080, 15040, 3) (18080, 15040, 3)\n"
     ]
    },
    {
     "name": "stderr",
     "output_type": "stream",
     "text": [
      "106it [2:46:03, 98.82s/it]"
     ]
    },
    {
     "name": "stdout",
     "output_type": "stream",
     "text": [
      "(18080, 15040, 3) (18080, 15040, 3) (18176, 15104, 3) (18176, 15104, 3)\n"
     ]
    },
    {
     "name": "stderr",
     "output_type": "stream",
     "text": [
      "107it [2:47:44, 99.47s/it]"
     ]
    },
    {
     "name": "stdout",
     "output_type": "stream",
     "text": [
      "(18080, 15040, 3) (18080, 15040, 3) (18080, 15040, 3) (18080, 15040, 3)\n"
     ]
    },
    {
     "name": "stderr",
     "output_type": "stream",
     "text": [
      "108it [2:49:19, 97.98s/it]"
     ]
    },
    {
     "name": "stdout",
     "output_type": "stream",
     "text": [
      "(18080, 15040, 3) (18080, 15040, 3) (18080, 15040, 3) (18080, 15040, 3)\n"
     ]
    },
    {
     "name": "stderr",
     "output_type": "stream",
     "text": [
      "109it [2:50:49, 95.51s/it]"
     ]
    },
    {
     "name": "stdout",
     "output_type": "stream",
     "text": [
      "(18080, 15040, 3) (18080, 15040, 3) (18080, 15040, 3) (18080, 15040, 3)\n"
     ]
    },
    {
     "name": "stderr",
     "output_type": "stream",
     "text": [
      "110it [2:52:14, 92.39s/it]"
     ]
    },
    {
     "name": "stdout",
     "output_type": "stream",
     "text": [
      "(18080, 15040, 3) (18080, 15040, 3) (18080, 15040, 3) (18080, 15040, 3)\n"
     ]
    },
    {
     "name": "stderr",
     "output_type": "stream",
     "text": [
      "111it [2:53:53, 94.33s/it]"
     ]
    },
    {
     "name": "stdout",
     "output_type": "stream",
     "text": [
      "(18080, 15040, 3) (18080, 15040, 3) (18080, 15040, 3) (18080, 15040, 3)\n"
     ]
    },
    {
     "name": "stderr",
     "output_type": "stream",
     "text": [
      "112it [2:55:35, 96.80s/it]"
     ]
    },
    {
     "name": "stdout",
     "output_type": "stream",
     "text": [
      "(18080, 15040, 3) (18080, 15040, 3) (18080, 15040, 3) (18080, 15040, 3)\n"
     ]
    },
    {
     "name": "stderr",
     "output_type": "stream",
     "text": [
      "113it [2:57:14, 97.27s/it]"
     ]
    },
    {
     "name": "stdout",
     "output_type": "stream",
     "text": [
      "(18080, 15040, 3) (18080, 15040, 3) (18080, 15040, 3) (18080, 15040, 3)\n"
     ]
    },
    {
     "name": "stderr",
     "output_type": "stream",
     "text": [
      "114it [2:59:02, 100.71s/it]"
     ]
    },
    {
     "name": "stdout",
     "output_type": "stream",
     "text": [
      "(18080, 15040, 3) (18080, 15040, 3) (18080, 15040, 3) (18080, 15040, 3)\n"
     ]
    },
    {
     "name": "stderr",
     "output_type": "stream",
     "text": [
      "115it [3:00:45, 101.20s/it]"
     ]
    },
    {
     "name": "stdout",
     "output_type": "stream",
     "text": [
      "(18080, 15040, 3) (18080, 15040, 3) (18080, 15040, 3) (18080, 15040, 3)\n"
     ]
    },
    {
     "name": "stderr",
     "output_type": "stream",
     "text": [
      "116it [3:02:33, 103.21s/it]"
     ]
    },
    {
     "name": "stdout",
     "output_type": "stream",
     "text": [
      "(18080, 15040, 3) (18080, 15040, 3) (18080, 15040, 3) (18080, 15040, 3)\n"
     ]
    },
    {
     "name": "stderr",
     "output_type": "stream",
     "text": [
      "117it [3:04:20, 104.52s/it]"
     ]
    },
    {
     "name": "stdout",
     "output_type": "stream",
     "text": [
      "(18080, 15040, 3) (18080, 15040, 3) (18080, 15040, 3) (18080, 15040, 3)\n"
     ]
    },
    {
     "name": "stderr",
     "output_type": "stream",
     "text": [
      "118it [3:06:10, 106.06s/it]"
     ]
    },
    {
     "name": "stdout",
     "output_type": "stream",
     "text": [
      "(18080, 15040, 3) (18080, 15040, 3) (18080, 15040, 3) (18080, 15040, 3)\n"
     ]
    },
    {
     "name": "stderr",
     "output_type": "stream",
     "text": [
      "119it [3:07:53, 105.08s/it]"
     ]
    },
    {
     "name": "stdout",
     "output_type": "stream",
     "text": [
      "(18080, 15040, 3) (18080, 15040, 3) (18080, 15040, 3) (18080, 15040, 3)\n"
     ]
    },
    {
     "name": "stderr",
     "output_type": "stream",
     "text": [
      "120it [3:09:28, 102.11s/it]"
     ]
    },
    {
     "name": "stdout",
     "output_type": "stream",
     "text": [
      "(18080, 15040, 3) (18080, 15040, 3) (18080, 15040, 3) (18080, 15040, 3)\n"
     ]
    },
    {
     "name": "stderr",
     "output_type": "stream",
     "text": [
      "121it [3:10:57, 98.28s/it] "
     ]
    },
    {
     "name": "stdout",
     "output_type": "stream",
     "text": [
      "(18080, 15040, 3) (18080, 15040, 3) (18080, 15040, 3) (18080, 15040, 3)\n"
     ]
    },
    {
     "name": "stderr",
     "output_type": "stream",
     "text": [
      "122it [3:12:27, 95.82s/it]"
     ]
    },
    {
     "name": "stdout",
     "output_type": "stream",
     "text": [
      "(18080, 15040, 3) (18080, 15040, 3) (18176, 15104, 3) (18176, 15104, 3)\n"
     ]
    },
    {
     "name": "stderr",
     "output_type": "stream",
     "text": [
      "123it [3:14:17, 99.90s/it]"
     ]
    },
    {
     "name": "stdout",
     "output_type": "stream",
     "text": [
      "(18080, 15040, 3) (18080, 15040, 3) (18080, 15040, 3) (18080, 15040, 3)\n"
     ]
    },
    {
     "name": "stderr",
     "output_type": "stream",
     "text": [
      "124it [3:16:04, 102.26s/it]"
     ]
    },
    {
     "name": "stdout",
     "output_type": "stream",
     "text": [
      "(18080, 15040, 3) (18080, 15040, 3) (18080, 15040, 3) (18080, 15040, 3)\n"
     ]
    },
    {
     "name": "stderr",
     "output_type": "stream",
     "text": [
      "125it [3:17:40, 100.14s/it]"
     ]
    },
    {
     "name": "stdout",
     "output_type": "stream",
     "text": [
      "(18080, 15040, 3) (18080, 15040, 3) (18080, 15040, 3) (18080, 15040, 3)\n"
     ]
    },
    {
     "name": "stderr",
     "output_type": "stream",
     "text": [
      "126it [3:19:20, 100.27s/it]"
     ]
    },
    {
     "name": "stdout",
     "output_type": "stream",
     "text": [
      "(18080, 15040, 3) (18080, 15040, 3) (18176, 15104, 3) (18176, 15104, 3)\n"
     ]
    },
    {
     "name": "stderr",
     "output_type": "stream",
     "text": [
      "127it [3:21:05, 101.79s/it]"
     ]
    },
    {
     "name": "stdout",
     "output_type": "stream",
     "text": [
      "(18080, 15040, 3) (18080, 15040, 3) (18080, 15040, 3) (18080, 15040, 3)\n"
     ]
    },
    {
     "name": "stderr",
     "output_type": "stream",
     "text": [
      "128it [3:22:45, 101.00s/it]"
     ]
    },
    {
     "name": "stdout",
     "output_type": "stream",
     "text": [
      "(18080, 15040, 3) (18080, 15040, 3) (18080, 15040, 3) (18080, 15040, 3)\n"
     ]
    },
    {
     "name": "stderr",
     "output_type": "stream",
     "text": [
      "129it [3:24:23, 100.18s/it]"
     ]
    },
    {
     "name": "stdout",
     "output_type": "stream",
     "text": [
      "(18080, 15040, 3) (18080, 15040, 3) (18080, 15040, 3) (18080, 15040, 3)\n"
     ]
    },
    {
     "name": "stderr",
     "output_type": "stream",
     "text": [
      "130it [3:26:02, 99.93s/it] "
     ]
    },
    {
     "name": "stdout",
     "output_type": "stream",
     "text": [
      "(18080, 15040, 3) (18080, 15040, 3) (18176, 15104, 3) (18176, 15104, 3)\n"
     ]
    },
    {
     "name": "stderr",
     "output_type": "stream",
     "text": [
      "131it [3:27:34, 97.49s/it]"
     ]
    },
    {
     "name": "stdout",
     "output_type": "stream",
     "text": [
      "(18080, 15040, 3) (18080, 15040, 3) (18080, 15040, 3) (18080, 15040, 3)\n"
     ]
    },
    {
     "name": "stderr",
     "output_type": "stream",
     "text": [
      "132it [3:29:09, 96.87s/it]"
     ]
    },
    {
     "name": "stdout",
     "output_type": "stream",
     "text": [
      "(18080, 15040, 3) (18080, 15040, 3) (18080, 15040, 3) (18080, 15040, 3)\n"
     ]
    },
    {
     "name": "stderr",
     "output_type": "stream",
     "text": [
      "133it [3:30:53, 98.99s/it]"
     ]
    },
    {
     "name": "stdout",
     "output_type": "stream",
     "text": [
      "(18080, 15040, 3) (18080, 15040, 3) (18080, 15040, 3) (18080, 15040, 3)\n"
     ]
    },
    {
     "name": "stderr",
     "output_type": "stream",
     "text": [
      "134it [3:32:39, 101.06s/it]"
     ]
    },
    {
     "name": "stdout",
     "output_type": "stream",
     "text": [
      "(18080, 15040, 3) (18080, 15040, 3) (18176, 15104, 3) (18176, 15104, 3)\n"
     ]
    },
    {
     "name": "stderr",
     "output_type": "stream",
     "text": [
      "135it [3:34:26, 102.73s/it]"
     ]
    },
    {
     "name": "stdout",
     "output_type": "stream",
     "text": [
      "(18080, 15040, 3) (18080, 15040, 3) (18080, 15040, 3) (18080, 15040, 3)\n"
     ]
    },
    {
     "name": "stderr",
     "output_type": "stream",
     "text": [
      "136it [3:36:08, 102.46s/it]"
     ]
    },
    {
     "name": "stdout",
     "output_type": "stream",
     "text": [
      "(18080, 15040, 3) (18080, 15040, 3) (18080, 15040, 3) (18080, 15040, 3)\n"
     ]
    },
    {
     "name": "stderr",
     "output_type": "stream",
     "text": [
      "137it [3:37:37, 98.41s/it] "
     ]
    },
    {
     "name": "stdout",
     "output_type": "stream",
     "text": [
      "(18080, 15040, 3) (18080, 15040, 3) (18080, 15040, 3) (18080, 15040, 3)\n"
     ]
    },
    {
     "name": "stderr",
     "output_type": "stream",
     "text": [
      "138it [3:39:15, 98.47s/it]"
     ]
    },
    {
     "name": "stdout",
     "output_type": "stream",
     "text": [
      "(18080, 15040, 3) (18080, 15040, 3) (18176, 15104, 3) (18176, 15104, 3)\n"
     ]
    },
    {
     "name": "stderr",
     "output_type": "stream",
     "text": [
      "139it [3:40:51, 97.65s/it]"
     ]
    },
    {
     "name": "stdout",
     "output_type": "stream",
     "text": [
      "(18176, 15104, 3) (18176, 15104, 3) (18080, 15040, 3) (18080, 15040, 3)\n"
     ]
    },
    {
     "name": "stderr",
     "output_type": "stream",
     "text": [
      "140it [3:42:33, 98.86s/it]"
     ]
    },
    {
     "name": "stdout",
     "output_type": "stream",
     "text": [
      "(18080, 15040, 3) (18080, 15040, 3) (18176, 15104, 3) (18176, 15104, 3)\n"
     ]
    },
    {
     "name": "stderr",
     "output_type": "stream",
     "text": [
      "141it [3:44:17, 100.55s/it]"
     ]
    },
    {
     "name": "stdout",
     "output_type": "stream",
     "text": [
      "(18080, 15040, 3) (18080, 15040, 3) (18080, 15040, 3) (18080, 15040, 3)\n"
     ]
    },
    {
     "name": "stderr",
     "output_type": "stream",
     "text": [
      "142it [3:46:00, 101.30s/it]"
     ]
    },
    {
     "name": "stdout",
     "output_type": "stream",
     "text": [
      "(18080, 15040, 3) (18080, 15040, 3) (18080, 15040, 3) (18080, 15040, 3)\n"
     ]
    },
    {
     "name": "stderr",
     "output_type": "stream",
     "text": [
      "143it [3:47:42, 101.49s/it]"
     ]
    },
    {
     "name": "stdout",
     "output_type": "stream",
     "text": [
      "(18080, 15040, 3) (18080, 15040, 3) (18080, 15040, 3) (18080, 15040, 3)\n"
     ]
    },
    {
     "name": "stderr",
     "output_type": "stream",
     "text": [
      "144it [3:49:22, 101.14s/it]"
     ]
    },
    {
     "name": "stdout",
     "output_type": "stream",
     "text": [
      "(18080, 15040, 3) (18080, 15040, 3) (18080, 15040, 3) (18080, 15040, 3)\n"
     ]
    },
    {
     "name": "stderr",
     "output_type": "stream",
     "text": [
      "145it [3:51:06, 101.74s/it]"
     ]
    },
    {
     "name": "stdout",
     "output_type": "stream",
     "text": [
      "(18080, 15040, 3) (18080, 15040, 3) (18080, 15040, 3) (18080, 15040, 3)\n"
     ]
    },
    {
     "name": "stderr",
     "output_type": "stream",
     "text": [
      "146it [3:52:54, 103.76s/it]"
     ]
    },
    {
     "name": "stdout",
     "output_type": "stream",
     "text": [
      "(18080, 15040, 3) (18080, 15040, 3) (18080, 15040, 3) (18080, 15040, 3)\n"
     ]
    },
    {
     "name": "stderr",
     "output_type": "stream",
     "text": [
      "147it [3:54:41, 104.61s/it]"
     ]
    },
    {
     "name": "stdout",
     "output_type": "stream",
     "text": [
      "(18080, 15040, 3) (18080, 15040, 3) (18080, 15040, 3) (18080, 15040, 3)\n"
     ]
    },
    {
     "name": "stderr",
     "output_type": "stream",
     "text": [
      "148it [3:56:25, 104.57s/it]"
     ]
    },
    {
     "name": "stdout",
     "output_type": "stream",
     "text": [
      "(18080, 15040, 3) (18080, 15040, 3) (18080, 15040, 3) (18080, 15040, 3)\n"
     ]
    },
    {
     "name": "stderr",
     "output_type": "stream",
     "text": [
      "149it [3:58:07, 103.66s/it]"
     ]
    },
    {
     "name": "stdout",
     "output_type": "stream",
     "text": [
      "(18080, 15040, 3) (18080, 15040, 3) (18080, 15040, 3) (18080, 15040, 3)\n"
     ]
    },
    {
     "name": "stderr",
     "output_type": "stream",
     "text": [
      "150it [3:59:43, 101.40s/it]"
     ]
    },
    {
     "name": "stdout",
     "output_type": "stream",
     "text": [
      "(18080, 15040, 3) (18080, 15040, 3) (18080, 15040, 3) (18080, 15040, 3)\n"
     ]
    },
    {
     "name": "stderr",
     "output_type": "stream",
     "text": [
      "151it [4:01:22, 100.83s/it]"
     ]
    },
    {
     "name": "stdout",
     "output_type": "stream",
     "text": [
      "(18080, 15040, 3) (18080, 15040, 3) (18080, 15040, 3) (18080, 15040, 3)\n"
     ]
    },
    {
     "name": "stderr",
     "output_type": "stream",
     "text": [
      "152it [4:03:06, 101.73s/it]"
     ]
    },
    {
     "name": "stdout",
     "output_type": "stream",
     "text": [
      "(18080, 15040, 3) (18080, 15040, 3) (18080, 15040, 3) (18080, 15040, 3)\n"
     ]
    },
    {
     "name": "stderr",
     "output_type": "stream",
     "text": [
      "153it [4:04:48, 101.66s/it]"
     ]
    },
    {
     "name": "stdout",
     "output_type": "stream",
     "text": [
      "(18080, 15040, 3) (18080, 15040, 3) (18080, 15040, 3) (18080, 15040, 3)\n"
     ]
    },
    {
     "name": "stderr",
     "output_type": "stream",
     "text": [
      "154it [4:06:33, 102.72s/it]"
     ]
    },
    {
     "name": "stdout",
     "output_type": "stream",
     "text": [
      "(18080, 15040, 3) (18080, 15040, 3) (18080, 15040, 3) (18080, 15040, 3)\n"
     ]
    },
    {
     "name": "stderr",
     "output_type": "stream",
     "text": [
      "155it [4:08:17, 103.11s/it]"
     ]
    },
    {
     "name": "stdout",
     "output_type": "stream",
     "text": [
      "(18080, 15040, 3) (18080, 15040, 3) (18080, 15040, 3) (18080, 15040, 3)\n"
     ]
    },
    {
     "name": "stderr",
     "output_type": "stream",
     "text": [
      "156it [4:09:59, 102.95s/it]"
     ]
    },
    {
     "name": "stdout",
     "output_type": "stream",
     "text": [
      "(18080, 15040, 3) (18080, 15040, 3) (18080, 15040, 3) (18080, 15040, 3)\n"
     ]
    },
    {
     "name": "stderr",
     "output_type": "stream",
     "text": [
      "157it [4:11:44, 103.46s/it]"
     ]
    },
    {
     "name": "stdout",
     "output_type": "stream",
     "text": [
      "(18080, 15040, 3) (18080, 15040, 3) (18080, 15040, 3) (18080, 15040, 3)\n"
     ]
    },
    {
     "name": "stderr",
     "output_type": "stream",
     "text": [
      "158it [4:13:18, 100.67s/it]"
     ]
    },
    {
     "name": "stdout",
     "output_type": "stream",
     "text": [
      "(18080, 15040, 3) (18080, 15040, 3) (18176, 15104, 3) (18176, 15104, 3)\n"
     ]
    },
    {
     "name": "stderr",
     "output_type": "stream",
     "text": [
      "159it [4:14:47, 97.01s/it] "
     ]
    },
    {
     "name": "stdout",
     "output_type": "stream",
     "text": [
      "(18080, 15040, 3) (18080, 15040, 3) (18080, 15040, 3) (18080, 15040, 3)\n"
     ]
    },
    {
     "name": "stderr",
     "output_type": "stream",
     "text": [
      "160it [4:16:12, 93.42s/it]"
     ]
    },
    {
     "name": "stdout",
     "output_type": "stream",
     "text": [
      "(18080, 15040, 3) (18080, 15040, 3) (18080, 15040, 3) (18080, 15040, 3)\n"
     ]
    },
    {
     "name": "stderr",
     "output_type": "stream",
     "text": [
      "161it [4:17:32, 89.45s/it]"
     ]
    },
    {
     "name": "stdout",
     "output_type": "stream",
     "text": [
      "(18080, 15040, 3) (18080, 15040, 3) (18080, 15040, 3) (18080, 15040, 3)\n"
     ]
    },
    {
     "name": "stderr",
     "output_type": "stream",
     "text": [
      "162it [4:19:20, 95.15s/it]"
     ]
    },
    {
     "name": "stdout",
     "output_type": "stream",
     "text": [
      "(18080, 15040, 3) (18080, 15040, 3) (18176, 15104, 3) (18176, 15104, 3)\n"
     ]
    },
    {
     "name": "stderr",
     "output_type": "stream",
     "text": [
      "163it [4:21:02, 97.19s/it]"
     ]
    },
    {
     "name": "stdout",
     "output_type": "stream",
     "text": [
      "(18080, 15040, 3) (18080, 15040, 3) (18176, 15104, 3) (18176, 15104, 3)\n"
     ]
    },
    {
     "name": "stderr",
     "output_type": "stream",
     "text": [
      "164it [4:22:45, 98.95s/it]"
     ]
    },
    {
     "name": "stdout",
     "output_type": "stream",
     "text": [
      "(18080, 15040, 3) (18080, 15040, 3) (18080, 15040, 3) (18080, 15040, 3)\n"
     ]
    },
    {
     "name": "stderr",
     "output_type": "stream",
     "text": [
      "165it [4:24:31, 101.09s/it]"
     ]
    },
    {
     "name": "stdout",
     "output_type": "stream",
     "text": [
      "(18176, 15104, 3) (18176, 15104, 3) (18176, 15104, 3) (18176, 15104, 3)\n"
     ]
    },
    {
     "name": "stderr",
     "output_type": "stream",
     "text": [
      "166it [4:26:20, 103.38s/it]"
     ]
    },
    {
     "name": "stdout",
     "output_type": "stream",
     "text": [
      "(18080, 15040, 3) (18080, 15040, 3) (18176, 15104, 3) (18176, 15104, 3)\n"
     ]
    },
    {
     "name": "stderr",
     "output_type": "stream",
     "text": [
      "167it [4:28:04, 103.56s/it]"
     ]
    },
    {
     "name": "stdout",
     "output_type": "stream",
     "text": [
      "(18080, 15040, 3) (18080, 15040, 3) (18080, 15040, 3) (18080, 15040, 3)\n"
     ]
    },
    {
     "name": "stderr",
     "output_type": "stream",
     "text": [
      "168it [4:29:55, 105.86s/it]"
     ]
    },
    {
     "name": "stdout",
     "output_type": "stream",
     "text": [
      "(18080, 15040, 3) (18080, 15040, 3) (18080, 15040, 3) (18080, 15040, 3)\n"
     ]
    },
    {
     "name": "stderr",
     "output_type": "stream",
     "text": [
      "169it [4:31:36, 104.38s/it]"
     ]
    },
    {
     "name": "stdout",
     "output_type": "stream",
     "text": [
      "(18176, 15104, 3) (18176, 15104, 3) (18080, 15040, 3) (18080, 15040, 3)\n"
     ]
    },
    {
     "name": "stderr",
     "output_type": "stream",
     "text": [
      "170it [4:33:24, 105.48s/it]"
     ]
    },
    {
     "name": "stdout",
     "output_type": "stream",
     "text": [
      "(18080, 15040, 3) (18080, 15040, 3) (18080, 15040, 3) (18080, 15040, 3)\n"
     ]
    },
    {
     "name": "stderr",
     "output_type": "stream",
     "text": [
      "171it [4:35:02, 103.06s/it]"
     ]
    },
    {
     "name": "stdout",
     "output_type": "stream",
     "text": [
      "(18080, 15040, 3) (18080, 15040, 3) (18080, 15040, 3) (18080, 15040, 3)\n"
     ]
    },
    {
     "name": "stderr",
     "output_type": "stream",
     "text": [
      "172it [4:36:39, 101.33s/it]"
     ]
    },
    {
     "name": "stdout",
     "output_type": "stream",
     "text": [
      "(18080, 15040, 3) (18080, 15040, 3) (18080, 15040, 3) (18080, 15040, 3)\n"
     ]
    },
    {
     "name": "stderr",
     "output_type": "stream",
     "text": [
      "173it [4:38:31, 104.36s/it]"
     ]
    },
    {
     "name": "stdout",
     "output_type": "stream",
     "text": [
      "(18080, 15040, 3) (18080, 15040, 3) (18080, 15040, 3) (18080, 15040, 3)\n"
     ]
    },
    {
     "name": "stderr",
     "output_type": "stream",
     "text": [
      "174it [4:40:22, 106.36s/it]"
     ]
    },
    {
     "name": "stdout",
     "output_type": "stream",
     "text": [
      "(18080, 15040, 3) (18080, 15040, 3) (18080, 15040, 3) (18080, 15040, 3)\n"
     ]
    },
    {
     "name": "stderr",
     "output_type": "stream",
     "text": [
      "175it [4:42:12, 107.61s/it]"
     ]
    },
    {
     "name": "stdout",
     "output_type": "stream",
     "text": [
      "(18080, 15040, 3) (18080, 15040, 3) (18080, 15040, 3) (18080, 15040, 3)\n"
     ]
    },
    {
     "name": "stderr",
     "output_type": "stream",
     "text": [
      "176it [4:43:59, 107.47s/it]"
     ]
    },
    {
     "name": "stdout",
     "output_type": "stream",
     "text": [
      "(18080, 15040, 3) (18080, 15040, 3) (18080, 15040, 3) (18080, 15040, 3)\n"
     ]
    },
    {
     "name": "stderr",
     "output_type": "stream",
     "text": [
      "177it [4:45:29, 102.26s/it]"
     ]
    },
    {
     "name": "stdout",
     "output_type": "stream",
     "text": [
      "(18080, 15040, 3) (18080, 15040, 3) (18080, 15040, 3) (18080, 15040, 3)\n"
     ]
    },
    {
     "name": "stderr",
     "output_type": "stream",
     "text": [
      "178it [4:47:02, 99.34s/it] "
     ]
    },
    {
     "name": "stdout",
     "output_type": "stream",
     "text": [
      "(18080, 15040, 3) (18080, 15040, 3) (18080, 15040, 3) (18080, 15040, 3)\n"
     ]
    },
    {
     "name": "stderr",
     "output_type": "stream",
     "text": [
      "179it [4:48:14, 91.10s/it]"
     ]
    },
    {
     "name": "stdout",
     "output_type": "stream",
     "text": [
      "(18080, 15040, 3) (18080, 15040, 3) (18080, 15040, 3) (18080, 15040, 3)\n"
     ]
    },
    {
     "name": "stderr",
     "output_type": "stream",
     "text": [
      "180it [4:49:23, 84.59s/it]"
     ]
    },
    {
     "name": "stdout",
     "output_type": "stream",
     "text": [
      "(18080, 15040, 3) (18080, 15040, 3) (18080, 15040, 3) (18080, 15040, 3)\n"
     ]
    },
    {
     "name": "stderr",
     "output_type": "stream",
     "text": [
      "181it [4:51:02, 88.95s/it]"
     ]
    },
    {
     "name": "stdout",
     "output_type": "stream",
     "text": [
      "(18080, 15040, 3) (18080, 15040, 3) (18080, 15040, 3) (18080, 15040, 3)\n"
     ]
    },
    {
     "name": "stderr",
     "output_type": "stream",
     "text": [
      "182it [4:52:44, 92.78s/it]"
     ]
    },
    {
     "name": "stdout",
     "output_type": "stream",
     "text": [
      "(18080, 15040, 3) (18080, 15040, 3) (18080, 15040, 3) (18080, 15040, 3)\n"
     ]
    },
    {
     "name": "stderr",
     "output_type": "stream",
     "text": [
      "183it [4:54:23, 94.79s/it]"
     ]
    },
    {
     "name": "stdout",
     "output_type": "stream",
     "text": [
      "(18080, 15040, 3) (18080, 15040, 3) (18080, 15040, 3) (18080, 15040, 3)\n"
     ]
    },
    {
     "name": "stderr",
     "output_type": "stream",
     "text": [
      "184it [4:56:14, 99.44s/it]"
     ]
    },
    {
     "name": "stdout",
     "output_type": "stream",
     "text": [
      "(18080, 15040, 3) (18080, 15040, 3) (18080, 15040, 3) (18080, 15040, 3)\n"
     ]
    },
    {
     "name": "stderr",
     "output_type": "stream",
     "text": [
      "185it [4:57:43, 96.25s/it]"
     ]
    },
    {
     "name": "stdout",
     "output_type": "stream",
     "text": [
      "(18080, 15040, 3) (18080, 15040, 3) (18080, 15040, 3) (18080, 15040, 3)\n"
     ]
    },
    {
     "name": "stderr",
     "output_type": "stream",
     "text": [
      "186it [4:59:24, 97.85s/it]"
     ]
    },
    {
     "name": "stdout",
     "output_type": "stream",
     "text": [
      "(18080, 15040, 3) (18080, 15040, 3) (18080, 15040, 3) (18080, 15040, 3)\n"
     ]
    },
    {
     "name": "stderr",
     "output_type": "stream",
     "text": [
      "187it [5:01:18, 102.54s/it]"
     ]
    },
    {
     "name": "stdout",
     "output_type": "stream",
     "text": [
      "(18080, 15040, 3) (18080, 15040, 3) (18080, 15040, 3) (18080, 15040, 3)\n"
     ]
    },
    {
     "name": "stderr",
     "output_type": "stream",
     "text": [
      "188it [5:03:04, 103.66s/it]"
     ]
    },
    {
     "name": "stdout",
     "output_type": "stream",
     "text": [
      "(18080, 15040, 3) (18080, 15040, 3) (18080, 15040, 3) (18080, 15040, 3)\n"
     ]
    },
    {
     "name": "stderr",
     "output_type": "stream",
     "text": [
      "189it [5:04:38, 100.80s/it]"
     ]
    },
    {
     "name": "stdout",
     "output_type": "stream",
     "text": [
      "(18080, 15040, 3) (18080, 15040, 3) (18080, 15040, 3) (18080, 15040, 3)\n"
     ]
    },
    {
     "name": "stderr",
     "output_type": "stream",
     "text": [
      "190it [5:06:20, 101.27s/it]"
     ]
    },
    {
     "name": "stdout",
     "output_type": "stream",
     "text": [
      "(18080, 15040, 3) (18080, 15040, 3) (18080, 15040, 3) (18080, 15040, 3)\n"
     ]
    },
    {
     "name": "stderr",
     "output_type": "stream",
     "text": [
      "191it [5:08:02, 101.28s/it]"
     ]
    },
    {
     "name": "stdout",
     "output_type": "stream",
     "text": [
      "(18176, 15104, 3) (18176, 15104, 3) (18080, 15040, 3) (18080, 15040, 3)\n"
     ]
    },
    {
     "name": "stderr",
     "output_type": "stream",
     "text": [
      "192it [5:09:49, 103.01s/it]"
     ]
    },
    {
     "name": "stdout",
     "output_type": "stream",
     "text": [
      "(18080, 15040, 3) (18080, 15040, 3) (18080, 15040, 3) (18080, 15040, 3)\n"
     ]
    },
    {
     "name": "stderr",
     "output_type": "stream",
     "text": [
      "193it [5:11:25, 101.04s/it]"
     ]
    },
    {
     "name": "stdout",
     "output_type": "stream",
     "text": [
      "(18080, 15040, 3) (18080, 15040, 3) (18080, 15040, 3) (18080, 15040, 3)\n"
     ]
    },
    {
     "name": "stderr",
     "output_type": "stream",
     "text": [
      "194it [5:13:09, 101.92s/it]"
     ]
    },
    {
     "name": "stdout",
     "output_type": "stream",
     "text": [
      "(18080, 15040, 3) (18080, 15040, 3) (18080, 15040, 3) (18080, 15040, 3)\n"
     ]
    },
    {
     "name": "stderr",
     "output_type": "stream",
     "text": [
      "195it [5:14:47, 100.68s/it]"
     ]
    },
    {
     "name": "stdout",
     "output_type": "stream",
     "text": [
      "(18176, 15104, 3) (18176, 15104, 3) (18080, 15040, 3) (18080, 15040, 3)\n"
     ]
    },
    {
     "name": "stderr",
     "output_type": "stream",
     "text": [
      "196it [5:16:26, 100.14s/it]"
     ]
    },
    {
     "name": "stdout",
     "output_type": "stream",
     "text": [
      "(18080, 15040, 3) (18080, 15040, 3) (18080, 15040, 3) (18080, 15040, 3)\n"
     ]
    },
    {
     "name": "stderr",
     "output_type": "stream",
     "text": [
      "197it [5:18:10, 101.39s/it]"
     ]
    },
    {
     "name": "stdout",
     "output_type": "stream",
     "text": [
      "(18080, 15040, 3) (18080, 15040, 3) (18080, 15040, 3) (18080, 15040, 3)\n"
     ]
    },
    {
     "name": "stderr",
     "output_type": "stream",
     "text": [
      "198it [5:19:47, 100.03s/it]"
     ]
    },
    {
     "name": "stdout",
     "output_type": "stream",
     "text": [
      "(18080, 15040, 3) (18080, 15040, 3) (18080, 15040, 3) (18080, 15040, 3)\n"
     ]
    },
    {
     "name": "stderr",
     "output_type": "stream",
     "text": [
      "199it [5:21:22, 98.50s/it] "
     ]
    },
    {
     "name": "stdout",
     "output_type": "stream",
     "text": [
      "(18080, 15040, 3) (18080, 15040, 3) (18176, 15104, 3) (18176, 15104, 3)\n"
     ]
    },
    {
     "name": "stderr",
     "output_type": "stream",
     "text": [
      "200it [5:22:54, 96.55s/it]"
     ]
    },
    {
     "name": "stdout",
     "output_type": "stream",
     "text": [
      "(18176, 15104, 3) (18176, 15104, 3) (18176, 15104, 3) (18176, 15104, 3)\n"
     ]
    },
    {
     "name": "stderr",
     "output_type": "stream",
     "text": [
      "201it [5:24:13, 91.46s/it]"
     ]
    },
    {
     "name": "stdout",
     "output_type": "stream",
     "text": [
      "(18176, 15104, 3) (18176, 15104, 3) (18176, 15104, 3) (18176, 15104, 3)\n"
     ]
    },
    {
     "name": "stderr",
     "output_type": "stream",
     "text": [
      "202it [5:25:53, 94.00s/it]"
     ]
    },
    {
     "name": "stdout",
     "output_type": "stream",
     "text": [
      "(18080, 15040, 3) (18080, 15040, 3) (18080, 15040, 3) (18080, 15040, 3)\n"
     ]
    },
    {
     "name": "stderr",
     "output_type": "stream",
     "text": [
      "203it [5:27:34, 95.92s/it]"
     ]
    },
    {
     "name": "stdout",
     "output_type": "stream",
     "text": [
      "(18080, 15040, 3) (18080, 15040, 3) (18080, 15040, 3) (18080, 15040, 3)\n"
     ]
    },
    {
     "name": "stderr",
     "output_type": "stream",
     "text": [
      "204it [5:29:21, 99.42s/it]"
     ]
    },
    {
     "name": "stdout",
     "output_type": "stream",
     "text": [
      "(18080, 15040, 3) (18080, 15040, 3) (18080, 15040, 3) (18080, 15040, 3)\n"
     ]
    },
    {
     "name": "stderr",
     "output_type": "stream",
     "text": [
      "205it [5:31:01, 99.36s/it]"
     ]
    },
    {
     "name": "stdout",
     "output_type": "stream",
     "text": [
      "(18080, 15040, 3) (18080, 15040, 3) (18080, 15040, 3) (18080, 15040, 3)\n"
     ]
    },
    {
     "name": "stderr",
     "output_type": "stream",
     "text": [
      "206it [5:32:42, 100.00s/it]"
     ]
    },
    {
     "name": "stdout",
     "output_type": "stream",
     "text": [
      "(18080, 15040, 3) (18080, 15040, 3) (18080, 15040, 3) (18080, 15040, 3)\n"
     ]
    },
    {
     "name": "stderr",
     "output_type": "stream",
     "text": [
      "207it [5:34:11, 96.57s/it] "
     ]
    },
    {
     "name": "stdout",
     "output_type": "stream",
     "text": [
      "(18080, 15040, 3) (18080, 15040, 3) (18080, 15040, 3) (18080, 15040, 3)\n"
     ]
    },
    {
     "name": "stderr",
     "output_type": "stream",
     "text": [
      "208it [5:35:46, 96.17s/it]"
     ]
    },
    {
     "name": "stdout",
     "output_type": "stream",
     "text": [
      "(18080, 15040, 3) (18080, 15040, 3) (18080, 15040, 3) (18080, 15040, 3)\n"
     ]
    },
    {
     "name": "stderr",
     "output_type": "stream",
     "text": [
      "209it [5:37:27, 97.66s/it]"
     ]
    },
    {
     "name": "stdout",
     "output_type": "stream",
     "text": [
      "(18080, 15040, 3) (18080, 15040, 3) (18080, 15040, 3) (18080, 15040, 3)\n"
     ]
    },
    {
     "name": "stderr",
     "output_type": "stream",
     "text": [
      "210it [5:38:50, 93.13s/it]"
     ]
    },
    {
     "name": "stdout",
     "output_type": "stream",
     "text": [
      "(18080, 15040, 3) (18080, 15040, 3) (18080, 15040, 3) (18080, 15040, 3)\n"
     ]
    },
    {
     "name": "stderr",
     "output_type": "stream",
     "text": [
      "211it [5:40:29, 95.09s/it]"
     ]
    },
    {
     "name": "stdout",
     "output_type": "stream",
     "text": [
      "(18080, 15040, 3) (18080, 15040, 3) (18080, 15040, 3) (18080, 15040, 3)\n"
     ]
    },
    {
     "name": "stderr",
     "output_type": "stream",
     "text": [
      "212it [5:42:08, 96.12s/it]"
     ]
    },
    {
     "name": "stdout",
     "output_type": "stream",
     "text": [
      "(18080, 15040, 3) (18080, 15040, 3) (18080, 15040, 3) (18080, 15040, 3)\n"
     ]
    },
    {
     "name": "stderr",
     "output_type": "stream",
     "text": [
      "213it [5:43:50, 97.93s/it]"
     ]
    },
    {
     "name": "stdout",
     "output_type": "stream",
     "text": [
      "(18080, 15040, 3) (18080, 15040, 3) (18080, 15040, 3) (18080, 15040, 3)\n"
     ]
    },
    {
     "name": "stderr",
     "output_type": "stream",
     "text": [
      "214it [5:45:38, 101.06s/it]"
     ]
    },
    {
     "name": "stdout",
     "output_type": "stream",
     "text": [
      "(18080, 15040, 3) (18080, 15040, 3) (18080, 15040, 3) (18080, 15040, 3)\n"
     ]
    },
    {
     "name": "stderr",
     "output_type": "stream",
     "text": [
      "215it [5:47:29, 104.01s/it]"
     ]
    },
    {
     "name": "stdout",
     "output_type": "stream",
     "text": [
      "(18080, 15040, 3) (18080, 15040, 3) (18080, 15040, 3) (18080, 15040, 3)\n"
     ]
    },
    {
     "name": "stderr",
     "output_type": "stream",
     "text": [
      "216it [5:49:20, 106.00s/it]"
     ]
    },
    {
     "name": "stdout",
     "output_type": "stream",
     "text": [
      "(18080, 15040, 3) (18080, 15040, 3) (18080, 15040, 3) (18080, 15040, 3)\n"
     ]
    },
    {
     "name": "stderr",
     "output_type": "stream",
     "text": [
      "217it [5:50:47, 100.35s/it]"
     ]
    },
    {
     "name": "stdout",
     "output_type": "stream",
     "text": [
      "(18080, 15040, 3) (18080, 15040, 3) (18080, 15040, 3) (18080, 15040, 3)\n"
     ]
    },
    {
     "name": "stderr",
     "output_type": "stream",
     "text": [
      "218it [5:52:27, 100.25s/it]"
     ]
    },
    {
     "name": "stdout",
     "output_type": "stream",
     "text": [
      "(18080, 15040, 3) (18080, 15040, 3) (18080, 15040, 3) (18080, 15040, 3)\n"
     ]
    },
    {
     "name": "stderr",
     "output_type": "stream",
     "text": [
      "219it [5:54:15, 102.56s/it]"
     ]
    },
    {
     "name": "stdout",
     "output_type": "stream",
     "text": [
      "(18080, 15040, 3) (18080, 15040, 3) (18080, 15040, 3) (18080, 15040, 3)\n"
     ]
    },
    {
     "name": "stderr",
     "output_type": "stream",
     "text": [
      "220it [5:56:05, 104.94s/it]"
     ]
    },
    {
     "name": "stdout",
     "output_type": "stream",
     "text": [
      "(18080, 15040, 3) (18080, 15040, 3) (18080, 15040, 3) (18080, 15040, 3)\n"
     ]
    },
    {
     "name": "stderr",
     "output_type": "stream",
     "text": [
      "221it [5:57:52, 105.54s/it]"
     ]
    },
    {
     "name": "stdout",
     "output_type": "stream",
     "text": [
      "(18080, 15040, 3) (18080, 15040, 3) (18080, 15040, 3) (18080, 15040, 3)\n"
     ]
    },
    {
     "name": "stderr",
     "output_type": "stream",
     "text": [
      "222it [5:59:34, 104.36s/it]"
     ]
    },
    {
     "name": "stdout",
     "output_type": "stream",
     "text": [
      "(18080, 15040, 3) (18080, 15040, 3) (18080, 15040, 3) (18080, 15040, 3)\n"
     ]
    },
    {
     "name": "stderr",
     "output_type": "stream",
     "text": [
      "223it [6:01:15, 103.30s/it]"
     ]
    },
    {
     "name": "stdout",
     "output_type": "stream",
     "text": [
      "(18080, 15040, 3) (18080, 15040, 3) (18080, 15040, 3) (18080, 15040, 3)\n"
     ]
    },
    {
     "name": "stderr",
     "output_type": "stream",
     "text": [
      "224it [6:03:07, 105.87s/it]"
     ]
    },
    {
     "name": "stdout",
     "output_type": "stream",
     "text": [
      "(18080, 15040, 3) (18080, 15040, 3) (18080, 15040, 3) (18080, 15040, 3)\n"
     ]
    },
    {
     "name": "stderr",
     "output_type": "stream",
     "text": [
      "225it [6:04:48, 104.51s/it]"
     ]
    },
    {
     "name": "stdout",
     "output_type": "stream",
     "text": [
      "(18080, 15040, 3) (18080, 15040, 3) (18080, 15040, 3) (18080, 15040, 3)\n"
     ]
    },
    {
     "name": "stderr",
     "output_type": "stream",
     "text": [
      "226it [6:06:27, 102.73s/it]"
     ]
    },
    {
     "name": "stdout",
     "output_type": "stream",
     "text": [
      "(18080, 15040, 3) (18080, 15040, 3) (18080, 15040, 3) (18080, 15040, 3)\n"
     ]
    },
    {
     "name": "stderr",
     "output_type": "stream",
     "text": [
      "227it [6:08:15, 104.39s/it]"
     ]
    },
    {
     "name": "stdout",
     "output_type": "stream",
     "text": [
      "(18080, 15040, 3) (18080, 15040, 3) (18080, 15040, 3) (18080, 15040, 3)\n"
     ]
    },
    {
     "name": "stderr",
     "output_type": "stream",
     "text": [
      "228it [6:10:01, 104.84s/it]"
     ]
    },
    {
     "name": "stdout",
     "output_type": "stream",
     "text": [
      "(18080, 15040, 3) (18080, 15040, 3) (18176, 15104, 3) (18176, 15104, 3)\n"
     ]
    },
    {
     "name": "stderr",
     "output_type": "stream",
     "text": [
      "229it [6:11:46, 104.95s/it]"
     ]
    },
    {
     "name": "stdout",
     "output_type": "stream",
     "text": [
      "(18080, 15040, 3) (18080, 15040, 3) (18176, 15104, 3) (18176, 15104, 3)\n"
     ]
    },
    {
     "name": "stderr",
     "output_type": "stream",
     "text": [
      "230it [6:13:28, 104.12s/it]"
     ]
    },
    {
     "name": "stdout",
     "output_type": "stream",
     "text": [
      "(18080, 15040, 3) (18080, 15040, 3) (18080, 15040, 3) (18080, 15040, 3)\n"
     ]
    },
    {
     "name": "stderr",
     "output_type": "stream",
     "text": [
      "231it [6:15:14, 104.51s/it]"
     ]
    },
    {
     "name": "stdout",
     "output_type": "stream",
     "text": [
      "(18080, 15040, 3) (18080, 15040, 3) (18080, 15040, 3) (18080, 15040, 3)\n"
     ]
    },
    {
     "name": "stderr",
     "output_type": "stream",
     "text": [
      "232it [6:16:57, 104.27s/it]"
     ]
    },
    {
     "name": "stdout",
     "output_type": "stream",
     "text": [
      "(18176, 15104, 3) (18176, 15104, 3) (18176, 15104, 3) (18176, 15104, 3)\n"
     ]
    },
    {
     "name": "stderr",
     "output_type": "stream",
     "text": [
      "233it [6:18:34, 101.87s/it]"
     ]
    },
    {
     "name": "stdout",
     "output_type": "stream",
     "text": [
      "(18080, 15040, 3) (18080, 15040, 3) (18080, 15040, 3) (18080, 15040, 3)\n"
     ]
    },
    {
     "name": "stderr",
     "output_type": "stream",
     "text": [
      "234it [6:20:20, 103.16s/it]"
     ]
    },
    {
     "name": "stdout",
     "output_type": "stream",
     "text": [
      "(18080, 15040, 3) (18080, 15040, 3) (18176, 15104, 3) (18176, 15104, 3)\n"
     ]
    },
    {
     "name": "stderr",
     "output_type": "stream",
     "text": [
      "235it [6:22:06, 104.12s/it]"
     ]
    },
    {
     "name": "stdout",
     "output_type": "stream",
     "text": [
      "(18176, 15104, 3) (18176, 15104, 3) (18080, 15040, 3) (18080, 15040, 3)\n"
     ]
    },
    {
     "name": "stderr",
     "output_type": "stream",
     "text": [
      "236it [6:23:55, 105.58s/it]"
     ]
    },
    {
     "name": "stdout",
     "output_type": "stream",
     "text": [
      "(18080, 15040, 3) (18080, 15040, 3) (18080, 15040, 3) (18080, 15040, 3)\n"
     ]
    },
    {
     "name": "stderr",
     "output_type": "stream",
     "text": [
      "237it [6:25:39, 105.00s/it]"
     ]
    },
    {
     "name": "stdout",
     "output_type": "stream",
     "text": [
      "(18080, 15040, 3) (18080, 15040, 3) (18080, 15040, 3) (18080, 15040, 3)\n"
     ]
    },
    {
     "name": "stderr",
     "output_type": "stream",
     "text": [
      "238it [6:27:21, 104.06s/it]"
     ]
    },
    {
     "name": "stdout",
     "output_type": "stream",
     "text": [
      "(18080, 15040, 3) (18080, 15040, 3) (18176, 15104, 3) (18176, 15104, 3)\n"
     ]
    },
    {
     "name": "stderr",
     "output_type": "stream",
     "text": [
      "239it [6:29:11, 105.88s/it]"
     ]
    },
    {
     "name": "stdout",
     "output_type": "stream",
     "text": [
      "(18176, 15104, 3) (18176, 15104, 3) (18176, 15104, 3) (18176, 15104, 3)\n"
     ]
    },
    {
     "name": "stderr",
     "output_type": "stream",
     "text": [
      "240it [6:30:55, 105.31s/it]"
     ]
    },
    {
     "name": "stdout",
     "output_type": "stream",
     "text": [
      "(18176, 15104, 3) (18176, 15104, 3) (18176, 15104, 3) (18176, 15104, 3)\n"
     ]
    },
    {
     "name": "stderr",
     "output_type": "stream",
     "text": [
      "241it [6:32:39, 104.95s/it]"
     ]
    },
    {
     "name": "stdout",
     "output_type": "stream",
     "text": [
      "(18080, 15040, 3) (18080, 15040, 3) (18176, 15104, 3) (18176, 15104, 3)\n"
     ]
    },
    {
     "name": "stderr",
     "output_type": "stream",
     "text": [
      "242it [6:34:15, 102.31s/it]"
     ]
    },
    {
     "name": "stdout",
     "output_type": "stream",
     "text": [
      "(18080, 15040, 3) (18080, 15040, 3) (18080, 15040, 3) (18080, 15040, 3)\n"
     ]
    },
    {
     "name": "stderr",
     "output_type": "stream",
     "text": [
      "243it [6:35:51, 100.56s/it]"
     ]
    },
    {
     "name": "stdout",
     "output_type": "stream",
     "text": [
      "(18176, 15104, 3) (18176, 15104, 3) (18080, 15040, 3) (18080, 15040, 3)\n"
     ]
    },
    {
     "name": "stderr",
     "output_type": "stream",
     "text": [
      "244it [6:37:27, 99.04s/it] "
     ]
    },
    {
     "name": "stdout",
     "output_type": "stream",
     "text": [
      "(18080, 15040, 3) (18080, 15040, 3) (18080, 15040, 3) (18080, 15040, 3)\n"
     ]
    },
    {
     "name": "stderr",
     "output_type": "stream",
     "text": [
      "245it [6:38:59, 96.88s/it]"
     ]
    },
    {
     "name": "stdout",
     "output_type": "stream",
     "text": [
      "(18080, 15040, 3) (18080, 15040, 3) (18080, 15040, 3) (18080, 15040, 3)\n"
     ]
    },
    {
     "name": "stderr",
     "output_type": "stream",
     "text": [
      "246it [6:40:38, 97.65s/it]"
     ]
    },
    {
     "name": "stdout",
     "output_type": "stream",
     "text": [
      "(18080, 15040, 3) (18080, 15040, 3) (18176, 15104, 3) (18176, 15104, 3)\n"
     ]
    },
    {
     "name": "stderr",
     "output_type": "stream",
     "text": [
      "247it [6:42:17, 98.11s/it]"
     ]
    },
    {
     "name": "stdout",
     "output_type": "stream",
     "text": [
      "(18080, 15040, 3) (18080, 15040, 3) (18080, 15040, 3) (18080, 15040, 3)\n"
     ]
    },
    {
     "name": "stderr",
     "output_type": "stream",
     "text": [
      "248it [6:43:59, 99.28s/it]"
     ]
    },
    {
     "name": "stdout",
     "output_type": "stream",
     "text": [
      "(18080, 15040, 3) (18080, 15040, 3) (18080, 15040, 3) (18080, 15040, 3)\n"
     ]
    },
    {
     "name": "stderr",
     "output_type": "stream",
     "text": [
      "249it [6:45:40, 99.63s/it]"
     ]
    },
    {
     "name": "stdout",
     "output_type": "stream",
     "text": [
      "(18080, 15040, 3) (18080, 15040, 3) (18080, 15040, 3) (18080, 15040, 3)\n"
     ]
    },
    {
     "name": "stderr",
     "output_type": "stream",
     "text": [
      "250it [6:47:11, 96.99s/it]"
     ]
    },
    {
     "name": "stdout",
     "output_type": "stream",
     "text": [
      "(18080, 15040, 3) (18080, 15040, 3) (18176, 15104, 3) (18176, 15104, 3)\n"
     ]
    },
    {
     "name": "stderr",
     "output_type": "stream",
     "text": [
      "251it [6:48:55, 99.07s/it]"
     ]
    },
    {
     "name": "stdout",
     "output_type": "stream",
     "text": [
      "(18080, 15040, 3) (18080, 15040, 3) (18176, 15104, 3) (18176, 15104, 3)\n"
     ]
    },
    {
     "name": "stderr",
     "output_type": "stream",
     "text": [
      "252it [6:50:45, 102.47s/it]"
     ]
    },
    {
     "name": "stdout",
     "output_type": "stream",
     "text": [
      "(18080, 15040, 3) (18080, 15040, 3) (18080, 15040, 3) (18080, 15040, 3)\n"
     ]
    },
    {
     "name": "stderr",
     "output_type": "stream",
     "text": [
      "253it [6:52:32, 103.72s/it]"
     ]
    },
    {
     "name": "stdout",
     "output_type": "stream",
     "text": [
      "(18080, 15040, 3) (18080, 15040, 3) (18080, 15040, 3) (18080, 15040, 3)\n"
     ]
    },
    {
     "name": "stderr",
     "output_type": "stream",
     "text": [
      "254it [6:54:07, 101.36s/it]"
     ]
    },
    {
     "name": "stdout",
     "output_type": "stream",
     "text": [
      "(18080, 15040, 3) (18080, 15040, 3) (18176, 15104, 3) (18176, 15104, 3)\n"
     ]
    },
    {
     "name": "stderr",
     "output_type": "stream",
     "text": [
      "255it [6:55:47, 100.70s/it]"
     ]
    },
    {
     "name": "stdout",
     "output_type": "stream",
     "text": [
      "(18176, 15104, 3) (18176, 15104, 3) (18080, 15040, 3) (18080, 15040, 3)\n"
     ]
    },
    {
     "name": "stderr",
     "output_type": "stream",
     "text": [
      "256it [6:57:29, 101.34s/it]"
     ]
    },
    {
     "name": "stdout",
     "output_type": "stream",
     "text": [
      "(18080, 15040, 3) (18080, 15040, 3) (18080, 15040, 3) (18080, 15040, 3)\n"
     ]
    },
    {
     "name": "stderr",
     "output_type": "stream",
     "text": [
      "257it [6:59:06, 99.89s/it] "
     ]
    },
    {
     "name": "stdout",
     "output_type": "stream",
     "text": [
      "(18080, 15040, 3) (18080, 15040, 3) (18080, 15040, 3) (18080, 15040, 3)\n"
     ]
    },
    {
     "name": "stderr",
     "output_type": "stream",
     "text": [
      "258it [7:00:38, 97.39s/it]"
     ]
    },
    {
     "name": "stdout",
     "output_type": "stream",
     "text": [
      "(18080, 15040, 3) (18080, 15040, 3) (18080, 15040, 3) (18080, 15040, 3)\n"
     ]
    },
    {
     "name": "stderr",
     "output_type": "stream",
     "text": [
      "259it [7:02:04, 94.05s/it]"
     ]
    },
    {
     "name": "stdout",
     "output_type": "stream",
     "text": [
      "(18080, 15040, 3) (18080, 15040, 3) (18080, 15040, 3) (18080, 15040, 3)\n"
     ]
    },
    {
     "name": "stderr",
     "output_type": "stream",
     "text": [
      "260it [7:03:42, 95.40s/it]"
     ]
    },
    {
     "name": "stdout",
     "output_type": "stream",
     "text": [
      "(18080, 15040, 3) (18080, 15040, 3) (18080, 15040, 3) (18080, 15040, 3)\n"
     ]
    },
    {
     "name": "stderr",
     "output_type": "stream",
     "text": [
      "261it [7:05:23, 97.05s/it]"
     ]
    },
    {
     "name": "stdout",
     "output_type": "stream",
     "text": [
      "(18080, 15040, 3) (18080, 15040, 3) (18080, 15040, 3) (18080, 15040, 3)\n"
     ]
    },
    {
     "name": "stderr",
     "output_type": "stream",
     "text": [
      "262it [7:07:05, 98.34s/it]"
     ]
    },
    {
     "name": "stdout",
     "output_type": "stream",
     "text": [
      "(18080, 15040, 3) (18080, 15040, 3) (18080, 15040, 3) (18080, 15040, 3)\n"
     ]
    },
    {
     "name": "stderr",
     "output_type": "stream",
     "text": [
      "263it [7:08:52, 101.13s/it]"
     ]
    },
    {
     "name": "stdout",
     "output_type": "stream",
     "text": [
      "(18080, 15040, 3) (18080, 15040, 3) (18080, 15040, 3) (18080, 15040, 3)\n"
     ]
    },
    {
     "name": "stderr",
     "output_type": "stream",
     "text": [
      "264it [7:10:39, 102.75s/it]"
     ]
    },
    {
     "name": "stdout",
     "output_type": "stream",
     "text": [
      "(18176, 15104, 3) (18176, 15104, 3) (18080, 15040, 3) (18080, 15040, 3)\n"
     ]
    },
    {
     "name": "stderr",
     "output_type": "stream",
     "text": [
      "265it [7:12:20, 102.21s/it]"
     ]
    },
    {
     "name": "stdout",
     "output_type": "stream",
     "text": [
      "(18080, 15040, 3) (18080, 15040, 3) (18080, 15040, 3) (18080, 15040, 3)\n"
     ]
    },
    {
     "name": "stderr",
     "output_type": "stream",
     "text": [
      "266it [7:13:55, 100.16s/it]"
     ]
    },
    {
     "name": "stdout",
     "output_type": "stream",
     "text": [
      "(18080, 15040, 3) (18080, 15040, 3) (18176, 15104, 3) (18176, 15104, 3)\n"
     ]
    },
    {
     "name": "stderr",
     "output_type": "stream",
     "text": [
      "267it [7:15:11, 92.93s/it] "
     ]
    },
    {
     "name": "stdout",
     "output_type": "stream",
     "text": [
      "(18080, 15040, 3) (18080, 15040, 3) (18080, 15040, 3) (18080, 15040, 3)\n"
     ]
    },
    {
     "name": "stderr",
     "output_type": "stream",
     "text": [
      "268it [7:16:47, 93.93s/it]"
     ]
    },
    {
     "name": "stdout",
     "output_type": "stream",
     "text": [
      "(18176, 15104, 3) (18176, 15104, 3) (18080, 15040, 3) (18080, 15040, 3)\n"
     ]
    },
    {
     "name": "stderr",
     "output_type": "stream",
     "text": [
      "269it [7:18:22, 94.14s/it]"
     ]
    },
    {
     "name": "stdout",
     "output_type": "stream",
     "text": [
      "(18080, 15040, 3) (18080, 15040, 3) (18080, 15040, 3) (18080, 15040, 3)\n"
     ]
    },
    {
     "name": "stderr",
     "output_type": "stream",
     "text": [
      "270it [7:19:55, 93.69s/it]"
     ]
    },
    {
     "name": "stdout",
     "output_type": "stream",
     "text": [
      "(18080, 15040, 3) (18080, 15040, 3) (18080, 15040, 3) (18080, 15040, 3)\n"
     ]
    },
    {
     "name": "stderr",
     "output_type": "stream",
     "text": [
      "271it [7:21:32, 94.90s/it]"
     ]
    },
    {
     "name": "stdout",
     "output_type": "stream",
     "text": [
      "(18176, 15104, 3) (18176, 15104, 3) (18080, 15040, 3) (18080, 15040, 3)\n"
     ]
    },
    {
     "name": "stderr",
     "output_type": "stream",
     "text": [
      "272it [7:23:08, 95.06s/it]"
     ]
    },
    {
     "name": "stdout",
     "output_type": "stream",
     "text": [
      "(18176, 15104, 3) (18176, 15104, 3) (18176, 15104, 3) (18176, 15104, 3)\n"
     ]
    },
    {
     "name": "stderr",
     "output_type": "stream",
     "text": [
      "273it [7:24:42, 94.92s/it]"
     ]
    },
    {
     "name": "stdout",
     "output_type": "stream",
     "text": [
      "(18080, 15040, 3) (18080, 15040, 3) (18080, 15040, 3) (18080, 15040, 3)\n"
     ]
    },
    {
     "name": "stderr",
     "output_type": "stream",
     "text": [
      "274it [7:26:25, 97.09s/it]"
     ]
    },
    {
     "name": "stdout",
     "output_type": "stream",
     "text": [
      "(18080, 15040, 3) (18080, 15040, 3) (18176, 15104, 3) (18176, 15104, 3)\n"
     ]
    },
    {
     "name": "stderr",
     "output_type": "stream",
     "text": [
      "275it [7:28:12, 100.08s/it]"
     ]
    },
    {
     "name": "stdout",
     "output_type": "stream",
     "text": [
      "(18080, 15040, 3) (18080, 15040, 3) (18176, 15104, 3) (18176, 15104, 3)\n"
     ]
    },
    {
     "name": "stderr",
     "output_type": "stream",
     "text": [
      "276it [7:29:56, 101.45s/it]"
     ]
    },
    {
     "name": "stdout",
     "output_type": "stream",
     "text": [
      "(18080, 15040, 3) (18080, 15040, 3) (18176, 15104, 3) (18176, 15104, 3)\n"
     ]
    },
    {
     "name": "stderr",
     "output_type": "stream",
     "text": [
      "277it [7:31:39, 101.80s/it]"
     ]
    },
    {
     "name": "stdout",
     "output_type": "stream",
     "text": [
      "(18080, 15040, 3) (18080, 15040, 3) (18176, 15104, 3) (18176, 15104, 3)\n"
     ]
    },
    {
     "name": "stderr",
     "output_type": "stream",
     "text": [
      "278it [7:33:22, 102.10s/it]"
     ]
    },
    {
     "name": "stdout",
     "output_type": "stream",
     "text": [
      "(18176, 15104, 3) (18176, 15104, 3) (18080, 15040, 3) (18080, 15040, 3)\n"
     ]
    },
    {
     "name": "stderr",
     "output_type": "stream",
     "text": [
      "279it [7:34:52, 98.58s/it] "
     ]
    },
    {
     "name": "stdout",
     "output_type": "stream",
     "text": [
      "(18080, 15040, 3) (18080, 15040, 3) (18080, 15040, 3) (18080, 15040, 3)\n"
     ]
    },
    {
     "name": "stderr",
     "output_type": "stream",
     "text": [
      "280it [7:35:54, 87.60s/it]"
     ]
    },
    {
     "name": "stdout",
     "output_type": "stream",
     "text": [
      "(18176, 15104, 3) (18176, 15104, 3) (18176, 15104, 3) (18176, 15104, 3)\n"
     ]
    },
    {
     "name": "stderr",
     "output_type": "stream",
     "text": [
      "281it [7:37:37, 92.20s/it]"
     ]
    },
    {
     "name": "stdout",
     "output_type": "stream",
     "text": [
      "(18080, 15040, 3) (18080, 15040, 3) (18080, 15040, 3) (18080, 15040, 3)\n"
     ]
    },
    {
     "name": "stderr",
     "output_type": "stream",
     "text": [
      "282it [7:39:15, 93.94s/it]"
     ]
    },
    {
     "name": "stdout",
     "output_type": "stream",
     "text": [
      "(18080, 15040, 3) (18080, 15040, 3) (18080, 15040, 3) (18080, 15040, 3)\n"
     ]
    },
    {
     "name": "stderr",
     "output_type": "stream",
     "text": [
      "283it [7:40:40, 91.30s/it]"
     ]
    },
    {
     "name": "stdout",
     "output_type": "stream",
     "text": [
      "(18176, 15104, 3) (18176, 15104, 3) (18080, 15040, 3) (18080, 15040, 3)\n"
     ]
    },
    {
     "name": "stderr",
     "output_type": "stream",
     "text": [
      "284it [7:42:24, 94.95s/it]"
     ]
    },
    {
     "name": "stdout",
     "output_type": "stream",
     "text": [
      "(18080, 15040, 3) (18080, 15040, 3) (18080, 15040, 3) (18080, 15040, 3)\n"
     ]
    },
    {
     "name": "stderr",
     "output_type": "stream",
     "text": [
      "285it [7:43:56, 94.33s/it]"
     ]
    },
    {
     "name": "stdout",
     "output_type": "stream",
     "text": [
      "(18080, 15040, 3) (18080, 15040, 3) (18080, 15040, 3) (18080, 15040, 3)\n"
     ]
    },
    {
     "name": "stderr",
     "output_type": "stream",
     "text": [
      "286it [7:45:48, 99.36s/it]"
     ]
    },
    {
     "name": "stdout",
     "output_type": "stream",
     "text": [
      "(18080, 15040, 3) (18080, 15040, 3) (18176, 15104, 3) (18176, 15104, 3)\n"
     ]
    },
    {
     "name": "stderr",
     "output_type": "stream",
     "text": [
      "287it [7:47:32, 100.89s/it]"
     ]
    },
    {
     "name": "stdout",
     "output_type": "stream",
     "text": [
      "(18080, 15040, 3) (18080, 15040, 3) (18080, 15040, 3) (18080, 15040, 3)\n"
     ]
    },
    {
     "name": "stderr",
     "output_type": "stream",
     "text": [
      "288it [7:49:25, 104.50s/it]"
     ]
    },
    {
     "name": "stdout",
     "output_type": "stream",
     "text": [
      "(18080, 15040, 3) (18080, 15040, 3) (18080, 15040, 3) (18080, 15040, 3)\n"
     ]
    },
    {
     "name": "stderr",
     "output_type": "stream",
     "text": [
      "289it [7:51:14, 105.84s/it]"
     ]
    },
    {
     "name": "stdout",
     "output_type": "stream",
     "text": [
      "(18080, 15040, 3) (18080, 15040, 3) (18080, 15040, 3) (18080, 15040, 3)\n"
     ]
    },
    {
     "name": "stderr",
     "output_type": "stream",
     "text": [
      "290it [7:52:59, 105.55s/it]"
     ]
    },
    {
     "name": "stdout",
     "output_type": "stream",
     "text": [
      "(18080, 15040, 3) (18080, 15040, 3) (18080, 15040, 3) (18080, 15040, 3)\n"
     ]
    },
    {
     "name": "stderr",
     "output_type": "stream",
     "text": [
      "291it [7:54:43, 105.15s/it]"
     ]
    },
    {
     "name": "stdout",
     "output_type": "stream",
     "text": [
      "(18080, 15040, 3) (18080, 15040, 3) (18080, 15040, 3) (18080, 15040, 3)\n"
     ]
    },
    {
     "name": "stderr",
     "output_type": "stream",
     "text": [
      "292it [7:56:31, 105.87s/it]"
     ]
    },
    {
     "name": "stdout",
     "output_type": "stream",
     "text": [
      "(18176, 15104, 3) (18176, 15104, 3) (18080, 15040, 3) (18080, 15040, 3)\n"
     ]
    },
    {
     "name": "stderr",
     "output_type": "stream",
     "text": [
      "293it [7:58:13, 104.70s/it]"
     ]
    },
    {
     "name": "stdout",
     "output_type": "stream",
     "text": [
      "(18080, 15040, 3) (18080, 15040, 3) (18080, 15040, 3) (18080, 15040, 3)\n"
     ]
    },
    {
     "name": "stderr",
     "output_type": "stream",
     "text": [
      "294it [7:59:53, 103.47s/it]"
     ]
    },
    {
     "name": "stdout",
     "output_type": "stream",
     "text": [
      "(18080, 15040, 3) (18080, 15040, 3) (18080, 15040, 3) (18080, 15040, 3)\n"
     ]
    },
    {
     "name": "stderr",
     "output_type": "stream",
     "text": [
      "295it [8:01:36, 103.31s/it]"
     ]
    },
    {
     "name": "stdout",
     "output_type": "stream",
     "text": [
      "(18080, 15040, 3) (18080, 15040, 3) (18080, 15040, 3) (18080, 15040, 3)\n"
     ]
    },
    {
     "name": "stderr",
     "output_type": "stream",
     "text": [
      "296it [8:03:18, 102.92s/it]"
     ]
    },
    {
     "name": "stdout",
     "output_type": "stream",
     "text": [
      "(18080, 15040, 3) (18080, 15040, 3) (18080, 15040, 3) (18080, 15040, 3)\n"
     ]
    },
    {
     "name": "stderr",
     "output_type": "stream",
     "text": [
      "297it [8:05:07, 104.69s/it]"
     ]
    },
    {
     "name": "stdout",
     "output_type": "stream",
     "text": [
      "(18176, 15104, 3) (18176, 15104, 3) (18176, 15104, 3) (18176, 15104, 3)\n"
     ]
    },
    {
     "name": "stderr",
     "output_type": "stream",
     "text": [
      "298it [8:06:40, 101.07s/it]"
     ]
    },
    {
     "name": "stdout",
     "output_type": "stream",
     "text": [
      "(18080, 15040, 3) (18080, 15040, 3) (18080, 15040, 3) (18080, 15040, 3)\n"
     ]
    },
    {
     "name": "stderr",
     "output_type": "stream",
     "text": [
      "299it [8:08:08, 97.42s/it] "
     ]
    },
    {
     "name": "stdout",
     "output_type": "stream",
     "text": [
      "(18176, 15104, 3) (18176, 15104, 3) (18080, 15040, 3) (18080, 15040, 3)\n"
     ]
    },
    {
     "name": "stderr",
     "output_type": "stream",
     "text": [
      "300it [8:09:36, 94.46s/it]"
     ]
    },
    {
     "name": "stdout",
     "output_type": "stream",
     "text": [
      "(18080, 15040, 3) (18080, 15040, 3) (18080, 15040, 3) (18080, 15040, 3)\n"
     ]
    },
    {
     "name": "stderr",
     "output_type": "stream",
     "text": [
      "301it [8:11:12, 95.01s/it]"
     ]
    },
    {
     "name": "stdout",
     "output_type": "stream",
     "text": [
      "(18080, 15040, 3) (18080, 15040, 3) (18080, 15040, 3) (18080, 15040, 3)\n"
     ]
    },
    {
     "name": "stderr",
     "output_type": "stream",
     "text": [
      "302it [8:12:57, 98.02s/it]"
     ]
    },
    {
     "name": "stdout",
     "output_type": "stream",
     "text": [
      "(18080, 15040, 3) (18080, 15040, 3) (18080, 15040, 3) (18080, 15040, 3)\n"
     ]
    },
    {
     "name": "stderr",
     "output_type": "stream",
     "text": [
      "303it [8:14:44, 100.57s/it]"
     ]
    },
    {
     "name": "stdout",
     "output_type": "stream",
     "text": [
      "(18080, 15040, 3) (18080, 15040, 3) (18080, 15040, 3) (18080, 15040, 3)\n"
     ]
    },
    {
     "name": "stderr",
     "output_type": "stream",
     "text": [
      "304it [8:16:33, 103.19s/it]"
     ]
    },
    {
     "name": "stdout",
     "output_type": "stream",
     "text": [
      "(18080, 15040, 3) (18080, 15040, 3) (18080, 15040, 3) (18080, 15040, 3)\n"
     ]
    },
    {
     "name": "stderr",
     "output_type": "stream",
     "text": [
      "305it [8:18:20, 104.35s/it]"
     ]
    },
    {
     "name": "stdout",
     "output_type": "stream",
     "text": [
      "(18176, 15104, 3) (18176, 15104, 3) (18080, 15040, 3) (18080, 15040, 3)\n"
     ]
    },
    {
     "name": "stderr",
     "output_type": "stream",
     "text": [
      "306it [8:20:11, 106.33s/it]"
     ]
    },
    {
     "name": "stdout",
     "output_type": "stream",
     "text": [
      "(18080, 15040, 3) (18080, 15040, 3) (18080, 15040, 3) (18080, 15040, 3)\n"
     ]
    },
    {
     "name": "stderr",
     "output_type": "stream",
     "text": [
      "307it [8:21:55, 105.49s/it]"
     ]
    },
    {
     "name": "stdout",
     "output_type": "stream",
     "text": [
      "(18176, 15104, 3) (18176, 15104, 3) (18176, 15104, 3) (18176, 15104, 3)\n"
     ]
    },
    {
     "name": "stderr",
     "output_type": "stream",
     "text": [
      "308it [8:23:46, 107.23s/it]"
     ]
    },
    {
     "name": "stdout",
     "output_type": "stream",
     "text": [
      "(18080, 15040, 3) (18080, 15040, 3) (18080, 15040, 3) (18080, 15040, 3)\n"
     ]
    },
    {
     "name": "stderr",
     "output_type": "stream",
     "text": [
      "309it [8:25:38, 108.68s/it]"
     ]
    },
    {
     "name": "stdout",
     "output_type": "stream",
     "text": [
      "(18080, 15040, 3) (18080, 15040, 3) (18080, 15040, 3) (18080, 15040, 3)\n"
     ]
    },
    {
     "name": "stderr",
     "output_type": "stream",
     "text": [
      "310it [8:27:31, 109.91s/it]"
     ]
    },
    {
     "name": "stdout",
     "output_type": "stream",
     "text": [
      "(18176, 15104, 3) (18176, 15104, 3) (18176, 15104, 3) (18176, 15104, 3)\n"
     ]
    },
    {
     "name": "stderr",
     "output_type": "stream",
     "text": [
      "311it [8:29:24, 110.94s/it]"
     ]
    },
    {
     "name": "stdout",
     "output_type": "stream",
     "text": [
      "(18080, 15040, 3) (18080, 15040, 3) (18080, 15040, 3) (18080, 15040, 3)\n"
     ]
    },
    {
     "name": "stderr",
     "output_type": "stream",
     "text": [
      "312it [8:31:11, 109.70s/it]"
     ]
    },
    {
     "name": "stdout",
     "output_type": "stream",
     "text": [
      "(18176, 15104, 3) (18176, 15104, 3) (18080, 15040, 3) (18080, 15040, 3)\n"
     ]
    },
    {
     "name": "stderr",
     "output_type": "stream",
     "text": [
      "313it [8:33:06, 111.18s/it]"
     ]
    },
    {
     "name": "stdout",
     "output_type": "stream",
     "text": [
      "(18080, 15040, 3) (18080, 15040, 3) (18080, 15040, 3) (18080, 15040, 3)\n"
     ]
    },
    {
     "name": "stderr",
     "output_type": "stream",
     "text": [
      "314it [8:34:49, 108.98s/it]"
     ]
    },
    {
     "name": "stdout",
     "output_type": "stream",
     "text": [
      "(18080, 15040, 3) (18080, 15040, 3) (18080, 15040, 3) (18080, 15040, 3)\n"
     ]
    },
    {
     "name": "stderr",
     "output_type": "stream",
     "text": [
      "315it [8:36:40, 109.34s/it]"
     ]
    },
    {
     "name": "stdout",
     "output_type": "stream",
     "text": [
      "(18080, 15040, 3) (18080, 15040, 3) (18080, 15040, 3) (18080, 15040, 3)\n"
     ]
    },
    {
     "name": "stderr",
     "output_type": "stream",
     "text": [
      "316it [8:38:28, 109.11s/it]"
     ]
    },
    {
     "name": "stdout",
     "output_type": "stream",
     "text": [
      "(18176, 15104, 3) (18176, 15104, 3) (18080, 15040, 3) (18080, 15040, 3)\n"
     ]
    },
    {
     "name": "stderr",
     "output_type": "stream",
     "text": [
      "317it [8:40:08, 106.28s/it]"
     ]
    },
    {
     "name": "stdout",
     "output_type": "stream",
     "text": [
      "(18080, 15040, 3) (18080, 15040, 3) (18080, 15040, 3) (18080, 15040, 3)\n"
     ]
    },
    {
     "name": "stderr",
     "output_type": "stream",
     "text": [
      "318it [8:41:48, 104.34s/it]"
     ]
    },
    {
     "name": "stdout",
     "output_type": "stream",
     "text": [
      "(18080, 15040, 3) (18080, 15040, 3) (18080, 15040, 3) (18080, 15040, 3)\n"
     ]
    },
    {
     "name": "stderr",
     "output_type": "stream",
     "text": [
      "319it [8:43:07, 96.95s/it] "
     ]
    },
    {
     "name": "stdout",
     "output_type": "stream",
     "text": [
      "(18176, 15104, 3) (18176, 15104, 3) (18176, 15104, 3) (18176, 15104, 3)\n"
     ]
    },
    {
     "name": "stderr",
     "output_type": "stream",
     "text": [
      "320it [8:44:35, 94.15s/it]"
     ]
    },
    {
     "name": "stdout",
     "output_type": "stream",
     "text": [
      "(18080, 15040, 3) (18080, 15040, 3) (18176, 15104, 3) (18176, 15104, 3)\n"
     ]
    },
    {
     "name": "stderr",
     "output_type": "stream",
     "text": [
      "321it [8:45:36, 84.09s/it]"
     ]
    },
    {
     "name": "stdout",
     "output_type": "stream",
     "text": [
      "(18080, 15040, 3) (18080, 15040, 3) (18080, 15040, 3) (18080, 15040, 3)\n"
     ]
    },
    {
     "name": "stderr",
     "output_type": "stream",
     "text": [
      "322it [8:47:06, 85.90s/it]"
     ]
    },
    {
     "name": "stdout",
     "output_type": "stream",
     "text": [
      "(18080, 15040, 3) (18080, 15040, 3) (18080, 15040, 3) (18080, 15040, 3)\n"
     ]
    },
    {
     "name": "stderr",
     "output_type": "stream",
     "text": [
      "323it [8:48:42, 88.89s/it]"
     ]
    },
    {
     "name": "stdout",
     "output_type": "stream",
     "text": [
      "(18080, 15040, 3) (18080, 15040, 3) (18176, 15104, 3) (18176, 15104, 3)\n"
     ]
    },
    {
     "name": "stderr",
     "output_type": "stream",
     "text": [
      "324it [8:50:30, 94.67s/it]"
     ]
    },
    {
     "name": "stdout",
     "output_type": "stream",
     "text": [
      "(18080, 15040, 3) (18080, 15040, 3) (18080, 15040, 3) (18080, 15040, 3)\n"
     ]
    },
    {
     "name": "stderr",
     "output_type": "stream",
     "text": [
      "325it [8:52:00, 93.34s/it]"
     ]
    },
    {
     "name": "stdout",
     "output_type": "stream",
     "text": [
      "(18080, 15040, 3) (18080, 15040, 3) (18080, 15040, 3) (18080, 15040, 3)\n"
     ]
    },
    {
     "name": "stderr",
     "output_type": "stream",
     "text": [
      "326it [8:53:28, 91.60s/it]"
     ]
    },
    {
     "name": "stdout",
     "output_type": "stream",
     "text": [
      "(18080, 15040, 3) (18080, 15040, 3) (18080, 15040, 3) (18080, 15040, 3)\n"
     ]
    },
    {
     "name": "stderr",
     "output_type": "stream",
     "text": [
      "327it [8:54:53, 89.67s/it]"
     ]
    },
    {
     "name": "stdout",
     "output_type": "stream",
     "text": [
      "(18080, 15040, 3) (18080, 15040, 3) (18080, 15040, 3) (18080, 15040, 3)\n"
     ]
    },
    {
     "name": "stderr",
     "output_type": "stream",
     "text": [
      "328it [8:56:12, 86.52s/it]"
     ]
    },
    {
     "name": "stdout",
     "output_type": "stream",
     "text": [
      "(18080, 15040, 3) (18080, 15040, 3) (18080, 15040, 3) (18080, 15040, 3)\n"
     ]
    },
    {
     "name": "stderr",
     "output_type": "stream",
     "text": [
      "329it [8:57:59, 92.56s/it]"
     ]
    },
    {
     "name": "stdout",
     "output_type": "stream",
     "text": [
      "(18080, 15040, 3) (18080, 15040, 3) (18080, 15040, 3) (18080, 15040, 3)\n"
     ]
    },
    {
     "name": "stderr",
     "output_type": "stream",
     "text": [
      "330it [8:59:38, 94.55s/it]"
     ]
    },
    {
     "name": "stdout",
     "output_type": "stream",
     "text": [
      "(18080, 15040, 3) (18080, 15040, 3) (18176, 15104, 3) (18176, 15104, 3)\n"
     ]
    },
    {
     "name": "stderr",
     "output_type": "stream",
     "text": [
      "331it [9:01:09, 93.64s/it]"
     ]
    },
    {
     "name": "stdout",
     "output_type": "stream",
     "text": [
      "(18080, 15040, 3) (18080, 15040, 3) (18176, 15104, 3) (18176, 15104, 3)\n"
     ]
    },
    {
     "name": "stderr",
     "output_type": "stream",
     "text": [
      "332it [9:02:45, 94.13s/it]"
     ]
    },
    {
     "name": "stdout",
     "output_type": "stream",
     "text": [
      "(18080, 15040, 3) (18080, 15040, 3) (18176, 15104, 3) (18176, 15104, 3)\n"
     ]
    },
    {
     "name": "stderr",
     "output_type": "stream",
     "text": [
      "333it [9:04:25, 96.18s/it]"
     ]
    },
    {
     "name": "stdout",
     "output_type": "stream",
     "text": [
      "(18080, 15040, 3) (18080, 15040, 3) (18176, 15104, 3) (18176, 15104, 3)\n"
     ]
    },
    {
     "name": "stderr",
     "output_type": "stream",
     "text": [
      "334it [9:06:06, 97.53s/it]"
     ]
    },
    {
     "name": "stdout",
     "output_type": "stream",
     "text": [
      "(18080, 15040, 3) (18080, 15040, 3) (18080, 15040, 3) (18080, 15040, 3)\n"
     ]
    },
    {
     "name": "stderr",
     "output_type": "stream",
     "text": [
      "335it [9:07:48, 98.78s/it]"
     ]
    },
    {
     "name": "stdout",
     "output_type": "stream",
     "text": [
      "(18080, 15040, 3) (18080, 15040, 3) (18080, 15040, 3) (18080, 15040, 3)\n"
     ]
    },
    {
     "name": "stderr",
     "output_type": "stream",
     "text": [
      "336it [9:09:34, 101.01s/it]"
     ]
    },
    {
     "name": "stdout",
     "output_type": "stream",
     "text": [
      "(18080, 15040, 3) (18080, 15040, 3) (18080, 15040, 3) (18080, 15040, 3)\n"
     ]
    },
    {
     "name": "stderr",
     "output_type": "stream",
     "text": [
      "337it [9:11:19, 102.07s/it]"
     ]
    },
    {
     "name": "stdout",
     "output_type": "stream",
     "text": [
      "(18080, 15040, 3) (18080, 15040, 3) (18080, 15040, 3) (18080, 15040, 3)\n"
     ]
    },
    {
     "name": "stderr",
     "output_type": "stream",
     "text": [
      "338it [9:13:03, 102.83s/it]"
     ]
    },
    {
     "name": "stdout",
     "output_type": "stream",
     "text": [
      "(18080, 15040, 3) (18080, 15040, 3) (18080, 15040, 3) (18080, 15040, 3)\n"
     ]
    },
    {
     "name": "stderr",
     "output_type": "stream",
     "text": [
      "339it [9:14:41, 101.35s/it]"
     ]
    },
    {
     "name": "stdout",
     "output_type": "stream",
     "text": [
      "(18080, 15040, 3) (18080, 15040, 3) (18080, 15040, 3) (18080, 15040, 3)\n"
     ]
    },
    {
     "name": "stderr",
     "output_type": "stream",
     "text": [
      "340it [9:16:20, 100.49s/it]"
     ]
    },
    {
     "name": "stdout",
     "output_type": "stream",
     "text": [
      "(18176, 15104, 3) (18176, 15104, 3) (18080, 15040, 3) (18080, 15040, 3)\n"
     ]
    },
    {
     "name": "stderr",
     "output_type": "stream",
     "text": [
      "341it [9:18:03, 101.38s/it]"
     ]
    },
    {
     "name": "stdout",
     "output_type": "stream",
     "text": [
      "(18080, 15040, 3) (18080, 15040, 3) (18080, 15040, 3) (18080, 15040, 3)\n"
     ]
    },
    {
     "name": "stderr",
     "output_type": "stream",
     "text": [
      "342it [9:19:49, 102.69s/it]"
     ]
    },
    {
     "name": "stdout",
     "output_type": "stream",
     "text": [
      "(18080, 15040, 3) (18080, 15040, 3) (18080, 15040, 3) (18080, 15040, 3)\n"
     ]
    },
    {
     "name": "stderr",
     "output_type": "stream",
     "text": [
      "343it [9:21:37, 104.46s/it]"
     ]
    },
    {
     "name": "stdout",
     "output_type": "stream",
     "text": [
      "(18080, 15040, 3) (18080, 15040, 3) (18080, 15040, 3) (18080, 15040, 3)\n"
     ]
    },
    {
     "name": "stderr",
     "output_type": "stream",
     "text": [
      "344it [9:23:24, 105.10s/it]"
     ]
    },
    {
     "name": "stdout",
     "output_type": "stream",
     "text": [
      "(18080, 15040, 3) (18080, 15040, 3) (18080, 15040, 3) (18080, 15040, 3)\n"
     ]
    },
    {
     "name": "stderr",
     "output_type": "stream",
     "text": [
      "345it [9:25:06, 104.20s/it]"
     ]
    },
    {
     "name": "stdout",
     "output_type": "stream",
     "text": [
      "(18080, 15040, 3) (18080, 15040, 3) (18080, 15040, 3) (18080, 15040, 3)\n"
     ]
    },
    {
     "name": "stderr",
     "output_type": "stream",
     "text": [
      "346it [9:26:53, 105.10s/it]"
     ]
    },
    {
     "name": "stdout",
     "output_type": "stream",
     "text": [
      "(18080, 15040, 3) (18080, 15040, 3) (18176, 15104, 3) (18176, 15104, 3)\n"
     ]
    },
    {
     "name": "stderr",
     "output_type": "stream",
     "text": [
      "347it [9:28:28, 102.11s/it]"
     ]
    },
    {
     "name": "stdout",
     "output_type": "stream",
     "text": [
      "(18080, 15040, 3) (18080, 15040, 3) (18176, 15104, 3) (18176, 15104, 3)\n"
     ]
    },
    {
     "name": "stderr",
     "output_type": "stream",
     "text": [
      "348it [9:30:14, 103.23s/it]"
     ]
    },
    {
     "name": "stdout",
     "output_type": "stream",
     "text": [
      "(18080, 15040, 3) (18080, 15040, 3) (18080, 15040, 3) (18080, 15040, 3)\n"
     ]
    },
    {
     "name": "stderr",
     "output_type": "stream",
     "text": [
      "349it [9:32:07, 105.97s/it]"
     ]
    },
    {
     "name": "stdout",
     "output_type": "stream",
     "text": [
      "(18080, 15040, 3) (18080, 15040, 3) (18080, 15040, 3) (18080, 15040, 3)\n"
     ]
    },
    {
     "name": "stderr",
     "output_type": "stream",
     "text": [
      "350it [9:33:56, 107.12s/it]"
     ]
    },
    {
     "name": "stdout",
     "output_type": "stream",
     "text": [
      "(18080, 15040, 3) (18080, 15040, 3) (18080, 15040, 3) (18080, 15040, 3)\n"
     ]
    },
    {
     "name": "stderr",
     "output_type": "stream",
     "text": [
      "351it [9:35:45, 107.41s/it]"
     ]
    },
    {
     "name": "stdout",
     "output_type": "stream",
     "text": [
      "(18176, 15104, 3) (18176, 15104, 3) (18080, 15040, 3) (18080, 15040, 3)\n"
     ]
    },
    {
     "name": "stderr",
     "output_type": "stream",
     "text": [
      "352it [9:37:30, 106.71s/it]"
     ]
    },
    {
     "name": "stdout",
     "output_type": "stream",
     "text": [
      "(18176, 15104, 3) (18176, 15104, 3) (18176, 15104, 3) (18176, 15104, 3)\n"
     ]
    },
    {
     "name": "stderr",
     "output_type": "stream",
     "text": [
      "353it [9:39:25, 109.22s/it]"
     ]
    },
    {
     "name": "stdout",
     "output_type": "stream",
     "text": [
      "(18080, 15040, 3) (18080, 15040, 3) (18080, 15040, 3) (18080, 15040, 3)\n"
     ]
    },
    {
     "name": "stderr",
     "output_type": "stream",
     "text": [
      "354it [9:41:13, 108.80s/it]"
     ]
    },
    {
     "name": "stdout",
     "output_type": "stream",
     "text": [
      "(18080, 15040, 3) (18080, 15040, 3) (18080, 15040, 3) (18080, 15040, 3)\n"
     ]
    },
    {
     "name": "stderr",
     "output_type": "stream",
     "text": [
      "355it [9:42:56, 107.27s/it]"
     ]
    },
    {
     "name": "stdout",
     "output_type": "stream",
     "text": [
      "(18176, 15104, 3) (18176, 15104, 3) (18080, 15040, 3) (18080, 15040, 3)\n"
     ]
    },
    {
     "name": "stderr",
     "output_type": "stream",
     "text": [
      "356it [9:44:43, 107.00s/it]"
     ]
    },
    {
     "name": "stdout",
     "output_type": "stream",
     "text": [
      "(18080, 15040, 3) (18080, 15040, 3) (18080, 15040, 3) (18080, 15040, 3)\n"
     ]
    },
    {
     "name": "stderr",
     "output_type": "stream",
     "text": [
      "357it [9:46:29, 106.84s/it]"
     ]
    },
    {
     "name": "stdout",
     "output_type": "stream",
     "text": [
      "(18080, 15040, 3) (18080, 15040, 3) (18080, 15040, 3) (18080, 15040, 3)\n"
     ]
    },
    {
     "name": "stderr",
     "output_type": "stream",
     "text": [
      "358it [9:48:19, 107.83s/it]"
     ]
    },
    {
     "name": "stdout",
     "output_type": "stream",
     "text": [
      "(18080, 15040, 3) (18080, 15040, 3) (18080, 15040, 3) (18080, 15040, 3)\n"
     ]
    },
    {
     "name": "stderr",
     "output_type": "stream",
     "text": [
      "359it [9:50:03, 106.71s/it]"
     ]
    },
    {
     "name": "stdout",
     "output_type": "stream",
     "text": [
      "(18176, 15104, 3) (18176, 15104, 3) (18080, 15040, 3) (18080, 15040, 3)\n"
     ]
    },
    {
     "name": "stderr",
     "output_type": "stream",
     "text": [
      "360it [9:51:49, 106.38s/it]"
     ]
    },
    {
     "name": "stdout",
     "output_type": "stream",
     "text": [
      "(18080, 15040, 3) (18080, 15040, 3) (18080, 15040, 3) (18080, 15040, 3)\n"
     ]
    },
    {
     "name": "stderr",
     "output_type": "stream",
     "text": [
      "361it [9:53:37, 106.90s/it]"
     ]
    },
    {
     "name": "stdout",
     "output_type": "stream",
     "text": [
      "(18080, 15040, 3) (18080, 15040, 3) (18080, 15040, 3) (18080, 15040, 3)\n"
     ]
    },
    {
     "name": "stderr",
     "output_type": "stream",
     "text": [
      "362it [9:55:24, 106.97s/it]"
     ]
    },
    {
     "name": "stdout",
     "output_type": "stream",
     "text": [
      "(18080, 15040, 3) (18080, 15040, 3) (18080, 15040, 3) (18080, 15040, 3)\n"
     ]
    },
    {
     "name": "stderr",
     "output_type": "stream",
     "text": [
      "363it [9:57:14, 107.76s/it]"
     ]
    },
    {
     "name": "stdout",
     "output_type": "stream",
     "text": [
      "(18080, 15040, 3) (18080, 15040, 3) (18080, 15040, 3) (18080, 15040, 3)\n"
     ]
    },
    {
     "name": "stderr",
     "output_type": "stream",
     "text": [
      "364it [9:59:05, 108.88s/it]"
     ]
    },
    {
     "name": "stdout",
     "output_type": "stream",
     "text": [
      "(18080, 15040, 3) (18080, 15040, 3) (18080, 15040, 3) (18080, 15040, 3)\n"
     ]
    },
    {
     "name": "stderr",
     "output_type": "stream",
     "text": [
      "365it [10:00:54, 108.89s/it]"
     ]
    },
    {
     "name": "stdout",
     "output_type": "stream",
     "text": [
      "(18080, 15040, 3) (18080, 15040, 3) (18080, 15040, 3) (18080, 15040, 3)\n"
     ]
    },
    {
     "name": "stderr",
     "output_type": "stream",
     "text": [
      "366it [10:02:38, 107.32s/it]"
     ]
    },
    {
     "name": "stdout",
     "output_type": "stream",
     "text": [
      "(18080, 15040, 3) (18080, 15040, 3) (18080, 15040, 3) (18080, 15040, 3)\n"
     ]
    },
    {
     "name": "stderr",
     "output_type": "stream",
     "text": [
      "367it [10:04:22, 106.49s/it]"
     ]
    },
    {
     "name": "stdout",
     "output_type": "stream",
     "text": [
      "(18080, 15040, 3) (18080, 15040, 3) (18080, 15040, 3) (18080, 15040, 3)\n"
     ]
    },
    {
     "name": "stderr",
     "output_type": "stream",
     "text": [
      "368it [10:06:10, 106.93s/it]"
     ]
    },
    {
     "name": "stdout",
     "output_type": "stream",
     "text": [
      "(18080, 15040, 3) (18080, 15040, 3) (18080, 15040, 3) (18080, 15040, 3)\n"
     ]
    },
    {
     "name": "stderr",
     "output_type": "stream",
     "text": [
      "369it [10:07:43, 102.73s/it]"
     ]
    },
    {
     "name": "stdout",
     "output_type": "stream",
     "text": [
      "(18080, 15040, 3) (18080, 15040, 3) (18080, 15040, 3) (18080, 15040, 3)\n"
     ]
    },
    {
     "name": "stderr",
     "output_type": "stream",
     "text": [
      "370it [10:09:09, 97.65s/it] "
     ]
    },
    {
     "name": "stdout",
     "output_type": "stream",
     "text": [
      "(18080, 15040, 3) (18080, 15040, 3) (18176, 15104, 3) (18176, 15104, 3)\n"
     ]
    },
    {
     "name": "stderr",
     "output_type": "stream",
     "text": [
      "371it [10:10:43, 96.59s/it]"
     ]
    },
    {
     "name": "stdout",
     "output_type": "stream",
     "text": [
      "(18080, 15040, 3) (18080, 15040, 3) (18176, 15104, 3) (18176, 15104, 3)\n"
     ]
    },
    {
     "name": "stderr",
     "output_type": "stream",
     "text": [
      "372it [10:12:17, 95.73s/it]"
     ]
    },
    {
     "name": "stdout",
     "output_type": "stream",
     "text": [
      "(18080, 15040, 3) (18080, 15040, 3) (18080, 15040, 3) (18080, 15040, 3)\n"
     ]
    },
    {
     "name": "stderr",
     "output_type": "stream",
     "text": [
      "373it [10:13:58, 97.25s/it]"
     ]
    },
    {
     "name": "stdout",
     "output_type": "stream",
     "text": [
      "(18080, 15040, 3) (18080, 15040, 3) (18176, 15104, 3) (18176, 15104, 3)\n"
     ]
    },
    {
     "name": "stderr",
     "output_type": "stream",
     "text": [
      "374it [10:15:32, 96.40s/it]"
     ]
    },
    {
     "name": "stdout",
     "output_type": "stream",
     "text": [
      "(18080, 15040, 3) (18080, 15040, 3) (18080, 15040, 3) (18080, 15040, 3)\n"
     ]
    },
    {
     "name": "stderr",
     "output_type": "stream",
     "text": [
      "375it [10:17:18, 99.29s/it]"
     ]
    },
    {
     "name": "stdout",
     "output_type": "stream",
     "text": [
      "(18080, 15040, 3) (18080, 15040, 3) (18176, 15104, 3) (18176, 15104, 3)\n"
     ]
    },
    {
     "name": "stderr",
     "output_type": "stream",
     "text": [
      "376it [10:19:03, 101.08s/it]"
     ]
    },
    {
     "name": "stdout",
     "output_type": "stream",
     "text": [
      "(18080, 15040, 3) (18080, 15040, 3) (18080, 15040, 3) (18080, 15040, 3)\n"
     ]
    },
    {
     "name": "stderr",
     "output_type": "stream",
     "text": [
      "377it [10:20:38, 99.11s/it] "
     ]
    },
    {
     "name": "stdout",
     "output_type": "stream",
     "text": [
      "(18080, 15040, 3) (18080, 15040, 3) (18080, 15040, 3) (18080, 15040, 3)\n"
     ]
    },
    {
     "name": "stderr",
     "output_type": "stream",
     "text": [
      "378it [10:22:16, 98.80s/it]"
     ]
    },
    {
     "name": "stdout",
     "output_type": "stream",
     "text": [
      "(18080, 15040, 3) (18080, 15040, 3) (18080, 15040, 3) (18080, 15040, 3)\n"
     ]
    },
    {
     "name": "stderr",
     "output_type": "stream",
     "text": [
      "379it [10:23:59, 100.04s/it]"
     ]
    },
    {
     "name": "stdout",
     "output_type": "stream",
     "text": [
      "(18080, 15040, 3) (18080, 15040, 3) (18080, 15040, 3) (18080, 15040, 3)\n"
     ]
    },
    {
     "name": "stderr",
     "output_type": "stream",
     "text": [
      "380it [10:25:44, 101.53s/it]"
     ]
    },
    {
     "name": "stdout",
     "output_type": "stream",
     "text": [
      "(18080, 15040, 3) (18080, 15040, 3) (18080, 15040, 3) (18080, 15040, 3)\n"
     ]
    },
    {
     "name": "stderr",
     "output_type": "stream",
     "text": [
      "381it [10:27:31, 103.09s/it]"
     ]
    },
    {
     "name": "stdout",
     "output_type": "stream",
     "text": [
      "(18080, 15040, 3) (18080, 15040, 3) (18080, 15040, 3) (18080, 15040, 3)\n"
     ]
    },
    {
     "name": "stderr",
     "output_type": "stream",
     "text": [
      "382it [10:29:21, 105.16s/it]"
     ]
    },
    {
     "name": "stdout",
     "output_type": "stream",
     "text": [
      "(18080, 15040, 3) (18080, 15040, 3) (18080, 15040, 3) (18080, 15040, 3)\n"
     ]
    },
    {
     "name": "stderr",
     "output_type": "stream",
     "text": [
      "383it [10:31:00, 103.39s/it]"
     ]
    },
    {
     "name": "stdout",
     "output_type": "stream",
     "text": [
      "(18080, 15040, 3) (18080, 15040, 3) (18080, 15040, 3) (18080, 15040, 3)\n"
     ]
    },
    {
     "name": "stderr",
     "output_type": "stream",
     "text": [
      "384it [10:32:40, 102.26s/it]"
     ]
    },
    {
     "name": "stdout",
     "output_type": "stream",
     "text": [
      "(18080, 15040, 3) (18080, 15040, 3) (18080, 15040, 3) (18080, 15040, 3)\n"
     ]
    },
    {
     "name": "stderr",
     "output_type": "stream",
     "text": [
      "385it [10:34:18, 101.28s/it]"
     ]
    },
    {
     "name": "stdout",
     "output_type": "stream",
     "text": [
      "(18080, 15040, 3) (18080, 15040, 3) (18080, 15040, 3) (18080, 15040, 3)\n"
     ]
    },
    {
     "name": "stderr",
     "output_type": "stream",
     "text": [
      "386it [10:35:51, 98.58s/it] "
     ]
    },
    {
     "name": "stdout",
     "output_type": "stream",
     "text": [
      "(18080, 15040, 3) (18080, 15040, 3) (18080, 15040, 3) (18080, 15040, 3)\n"
     ]
    },
    {
     "name": "stderr",
     "output_type": "stream",
     "text": [
      "387it [10:37:35, 100.26s/it]"
     ]
    },
    {
     "name": "stdout",
     "output_type": "stream",
     "text": [
      "(18176, 15104, 3) (18176, 15104, 3) (18080, 15040, 3) (18080, 15040, 3)\n"
     ]
    },
    {
     "name": "stderr",
     "output_type": "stream",
     "text": [
      "388it [10:39:10, 98.56s/it] "
     ]
    },
    {
     "name": "stdout",
     "output_type": "stream",
     "text": [
      "(18080, 15040, 3) (18080, 15040, 3) (18080, 15040, 3) (18080, 15040, 3)\n"
     ]
    },
    {
     "name": "stderr",
     "output_type": "stream",
     "text": [
      "389it [10:40:30, 93.03s/it]"
     ]
    },
    {
     "name": "stdout",
     "output_type": "stream",
     "text": [
      "(18080, 15040, 3) (18080, 15040, 3) (18080, 15040, 3) (18080, 15040, 3)\n"
     ]
    },
    {
     "name": "stderr",
     "output_type": "stream",
     "text": [
      "390it [10:41:58, 91.67s/it]"
     ]
    },
    {
     "name": "stdout",
     "output_type": "stream",
     "text": [
      "(18080, 15040, 3) (18080, 15040, 3) (18080, 15040, 3) (18080, 15040, 3)\n"
     ]
    },
    {
     "name": "stderr",
     "output_type": "stream",
     "text": [
      "391it [10:43:34, 92.90s/it]"
     ]
    },
    {
     "name": "stdout",
     "output_type": "stream",
     "text": [
      "(18080, 15040, 3) (18080, 15040, 3) (18080, 15040, 3) (18080, 15040, 3)\n"
     ]
    },
    {
     "name": "stderr",
     "output_type": "stream",
     "text": [
      "392it [10:45:06, 92.55s/it]"
     ]
    },
    {
     "name": "stdout",
     "output_type": "stream",
     "text": [
      "(18080, 15040, 3) (18080, 15040, 3) (18080, 15040, 3) (18080, 15040, 3)\n"
     ]
    },
    {
     "name": "stderr",
     "output_type": "stream",
     "text": [
      "393it [10:46:45, 94.62s/it]"
     ]
    },
    {
     "name": "stdout",
     "output_type": "stream",
     "text": [
      "(18080, 15040, 3) (18080, 15040, 3) (18080, 15040, 3) (18080, 15040, 3)\n"
     ]
    },
    {
     "name": "stderr",
     "output_type": "stream",
     "text": [
      "394it [10:48:27, 96.66s/it]"
     ]
    },
    {
     "name": "stdout",
     "output_type": "stream",
     "text": [
      "(18080, 15040, 3) (18080, 15040, 3) (18080, 15040, 3) (18080, 15040, 3)\n"
     ]
    },
    {
     "name": "stderr",
     "output_type": "stream",
     "text": [
      "395it [10:50:03, 96.61s/it]"
     ]
    },
    {
     "name": "stdout",
     "output_type": "stream",
     "text": [
      "(18080, 15040, 3) (18080, 15040, 3) (18080, 15040, 3) (18080, 15040, 3)\n"
     ]
    },
    {
     "name": "stderr",
     "output_type": "stream",
     "text": [
      "396it [10:51:45, 98.33s/it]"
     ]
    },
    {
     "name": "stdout",
     "output_type": "stream",
     "text": [
      "(18080, 15040, 3) (18080, 15040, 3) (18080, 15040, 3) (18080, 15040, 3)\n"
     ]
    },
    {
     "name": "stderr",
     "output_type": "stream",
     "text": [
      "397it [10:53:27, 99.29s/it]"
     ]
    },
    {
     "name": "stdout",
     "output_type": "stream",
     "text": [
      "(18080, 15040, 3) (18080, 15040, 3) (18080, 15040, 3) (18080, 15040, 3)\n"
     ]
    },
    {
     "name": "stderr",
     "output_type": "stream",
     "text": [
      "398it [10:55:16, 102.25s/it]"
     ]
    },
    {
     "name": "stdout",
     "output_type": "stream",
     "text": [
      "(18080, 15040, 3) (18080, 15040, 3) (18080, 15040, 3) (18080, 15040, 3)\n"
     ]
    },
    {
     "name": "stderr",
     "output_type": "stream",
     "text": [
      "399it [10:56:56, 101.50s/it]"
     ]
    },
    {
     "name": "stdout",
     "output_type": "stream",
     "text": [
      "(18080, 15040, 3) (18080, 15040, 3) (18080, 15040, 3) (18080, 15040, 3)\n"
     ]
    },
    {
     "name": "stderr",
     "output_type": "stream",
     "text": [
      "400it [10:58:39, 102.12s/it]"
     ]
    },
    {
     "name": "stdout",
     "output_type": "stream",
     "text": [
      "(18080, 15040, 3) (18080, 15040, 3) (18080, 15040, 3) (18080, 15040, 3)\n"
     ]
    },
    {
     "name": "stderr",
     "output_type": "stream",
     "text": [
      "401it [11:00:09, 98.32s/it] "
     ]
    },
    {
     "name": "stdout",
     "output_type": "stream",
     "text": [
      "(18080, 15040, 3) (18080, 15040, 3) (18080, 15040, 3) (18080, 15040, 3)\n"
     ]
    },
    {
     "name": "stderr",
     "output_type": "stream",
     "text": [
      "402it [11:01:46, 98.02s/it]"
     ]
    },
    {
     "name": "stdout",
     "output_type": "stream",
     "text": [
      "(18176, 15104, 3) (18176, 15104, 3) (18176, 15104, 3) (18176, 15104, 3)\n"
     ]
    },
    {
     "name": "stderr",
     "output_type": "stream",
     "text": [
      "403it [11:03:35, 101.28s/it]"
     ]
    },
    {
     "name": "stdout",
     "output_type": "stream",
     "text": [
      "(18080, 15040, 3) (18080, 15040, 3) (18080, 15040, 3) (18080, 15040, 3)\n"
     ]
    },
    {
     "name": "stderr",
     "output_type": "stream",
     "text": [
      "404it [11:05:19, 102.17s/it]"
     ]
    },
    {
     "name": "stdout",
     "output_type": "stream",
     "text": [
      "(18080, 15040, 3) (18080, 15040, 3) (18080, 15040, 3) (18080, 15040, 3)\n"
     ]
    },
    {
     "name": "stderr",
     "output_type": "stream",
     "text": [
      "405it [11:07:04, 103.04s/it]"
     ]
    },
    {
     "name": "stdout",
     "output_type": "stream",
     "text": [
      "(18080, 15040, 3) (18080, 15040, 3) (18080, 15040, 3) (18080, 15040, 3)\n"
     ]
    },
    {
     "name": "stderr",
     "output_type": "stream",
     "text": [
      "406it [11:08:51, 104.22s/it]"
     ]
    },
    {
     "name": "stdout",
     "output_type": "stream",
     "text": [
      "(18080, 15040, 3) (18080, 15040, 3) (18176, 15104, 3) (18176, 15104, 3)\n"
     ]
    },
    {
     "name": "stderr",
     "output_type": "stream",
     "text": [
      "407it [11:10:37, 104.61s/it]"
     ]
    },
    {
     "name": "stdout",
     "output_type": "stream",
     "text": [
      "(18176, 15104, 3) (18176, 15104, 3) (18080, 15040, 3) (18080, 15040, 3)\n"
     ]
    },
    {
     "name": "stderr",
     "output_type": "stream",
     "text": [
      "408it [11:12:26, 106.07s/it]"
     ]
    },
    {
     "name": "stdout",
     "output_type": "stream",
     "text": [
      "(18080, 15040, 3) (18080, 15040, 3) (18080, 15040, 3) (18080, 15040, 3)\n"
     ]
    },
    {
     "name": "stderr",
     "output_type": "stream",
     "text": [
      "409it [11:14:12, 105.99s/it]"
     ]
    },
    {
     "name": "stdout",
     "output_type": "stream",
     "text": [
      "(18176, 15104, 3) (18176, 15104, 3) (18048, 15104, 3) (18048, 15104, 3)\n"
     ]
    },
    {
     "name": "stderr",
     "output_type": "stream",
     "text": [
      "410it [11:16:00, 106.58s/it]"
     ]
    },
    {
     "name": "stdout",
     "output_type": "stream",
     "text": [
      "(18176, 15104, 3) (18176, 15104, 3) (18080, 15040, 3) (18080, 15040, 3)\n"
     ]
    },
    {
     "name": "stderr",
     "output_type": "stream",
     "text": [
      "411it [11:17:46, 106.36s/it]"
     ]
    },
    {
     "name": "stdout",
     "output_type": "stream",
     "text": [
      "(18080, 15040, 3) (18080, 15040, 3) (18080, 15040, 3) (18080, 15040, 3)\n"
     ]
    },
    {
     "name": "stderr",
     "output_type": "stream",
     "text": [
      "412it [11:19:31, 106.04s/it]"
     ]
    },
    {
     "name": "stdout",
     "output_type": "stream",
     "text": [
      "(18176, 15104, 3) (18176, 15104, 3) (18080, 15040, 3) (18080, 15040, 3)\n"
     ]
    },
    {
     "name": "stderr",
     "output_type": "stream",
     "text": [
      "413it [11:21:15, 105.40s/it]"
     ]
    },
    {
     "name": "stdout",
     "output_type": "stream",
     "text": [
      "(18176, 15104, 3) (18176, 15104, 3) (18080, 15040, 3) (18080, 15040, 3)\n"
     ]
    },
    {
     "name": "stderr",
     "output_type": "stream",
     "text": [
      "414it [11:22:57, 104.43s/it]"
     ]
    },
    {
     "name": "stdout",
     "output_type": "stream",
     "text": [
      "(18080, 15040, 3) (18080, 15040, 3) (18080, 15040, 3) (18080, 15040, 3)\n"
     ]
    },
    {
     "name": "stderr",
     "output_type": "stream",
     "text": [
      "415it [11:24:43, 104.71s/it]"
     ]
    },
    {
     "name": "stdout",
     "output_type": "stream",
     "text": [
      "(18080, 15040, 3) (18080, 15040, 3) (18080, 15040, 3) (18080, 15040, 3)\n"
     ]
    },
    {
     "name": "stderr",
     "output_type": "stream",
     "text": [
      "416it [11:26:30, 105.62s/it]"
     ]
    },
    {
     "name": "stdout",
     "output_type": "stream",
     "text": [
      "(18176, 15104, 3) (18176, 15104, 3) (18176, 15104, 3) (18176, 15104, 3)\n"
     ]
    },
    {
     "name": "stderr",
     "output_type": "stream",
     "text": [
      "417it [11:28:15, 105.28s/it]"
     ]
    },
    {
     "name": "stdout",
     "output_type": "stream",
     "text": [
      "(18080, 15040, 3) (18080, 15040, 3) (18176, 15104, 3) (18176, 15104, 3)\n"
     ]
    },
    {
     "name": "stderr",
     "output_type": "stream",
     "text": [
      "418it [11:29:57, 104.17s/it]"
     ]
    },
    {
     "name": "stdout",
     "output_type": "stream",
     "text": [
      "(18176, 15104, 3) (18176, 15104, 3) (18080, 15040, 3) (18080, 15040, 3)\n"
     ]
    },
    {
     "name": "stderr",
     "output_type": "stream",
     "text": [
      "419it [11:31:10, 95.01s/it] "
     ]
    },
    {
     "name": "stdout",
     "output_type": "stream",
     "text": [
      "(18080, 15040, 3) (18080, 15040, 3) (18080, 15040, 3) (18080, 15040, 3)\n"
     ]
    },
    {
     "name": "stderr",
     "output_type": "stream",
     "text": [
      "420it [11:32:37, 92.47s/it]"
     ]
    },
    {
     "name": "stdout",
     "output_type": "stream",
     "text": [
      "(18176, 15104, 3) (18176, 15104, 3) (18176, 15104, 3) (18176, 15104, 3)\n"
     ]
    },
    {
     "name": "stderr",
     "output_type": "stream",
     "text": [
      "421it [11:34:21, 96.08s/it]"
     ]
    },
    {
     "name": "stdout",
     "output_type": "stream",
     "text": [
      "(18176, 15104, 3) (18176, 15104, 3) (18176, 15104, 3) (18176, 15104, 3)\n"
     ]
    },
    {
     "name": "stderr",
     "output_type": "stream",
     "text": [
      "422it [11:36:01, 97.13s/it]"
     ]
    },
    {
     "name": "stdout",
     "output_type": "stream",
     "text": [
      "(18176, 15104, 3) (18176, 15104, 3) (18080, 15040, 3) (18080, 15040, 3)\n"
     ]
    },
    {
     "name": "stderr",
     "output_type": "stream",
     "text": [
      "423it [11:37:45, 99.26s/it]"
     ]
    },
    {
     "name": "stdout",
     "output_type": "stream",
     "text": [
      "(18176, 15104, 3) (18176, 15104, 3) (18080, 15040, 3) (18080, 15040, 3)\n"
     ]
    },
    {
     "name": "stderr",
     "output_type": "stream",
     "text": [
      "424it [11:39:34, 102.11s/it]"
     ]
    },
    {
     "name": "stdout",
     "output_type": "stream",
     "text": [
      "(18176, 15104, 3) (18176, 15104, 3) (18176, 15104, 3) (18176, 15104, 3)\n"
     ]
    },
    {
     "name": "stderr",
     "output_type": "stream",
     "text": [
      "425it [11:41:18, 102.72s/it]"
     ]
    },
    {
     "name": "stdout",
     "output_type": "stream",
     "text": [
      "(18080, 15040, 3) (18080, 15040, 3) (17664, 15104, 3) (17664, 15104, 3)\n"
     ]
    },
    {
     "name": "stderr",
     "output_type": "stream",
     "text": [
      "426it [11:43:04, 103.83s/it]"
     ]
    },
    {
     "name": "stdout",
     "output_type": "stream",
     "text": [
      "(18176, 15104, 3) (18176, 15104, 3) (18176, 15104, 3) (18176, 15104, 3)\n"
     ]
    },
    {
     "name": "stderr",
     "output_type": "stream",
     "text": [
      "427it [11:44:42, 101.86s/it]"
     ]
    },
    {
     "name": "stdout",
     "output_type": "stream",
     "text": [
      "(18176, 15104, 3) (18176, 15104, 3) (18080, 15040, 3) (18080, 15040, 3)\n"
     ]
    },
    {
     "name": "stderr",
     "output_type": "stream",
     "text": [
      "428it [11:46:21, 101.19s/it]"
     ]
    },
    {
     "name": "stdout",
     "output_type": "stream",
     "text": [
      "(18080, 15040, 3) (18080, 15040, 3) (18176, 15104, 3) (18176, 15104, 3)\n"
     ]
    },
    {
     "name": "stderr",
     "output_type": "stream",
     "text": [
      "429it [11:48:05, 101.94s/it]"
     ]
    },
    {
     "name": "stdout",
     "output_type": "stream",
     "text": [
      "(18080, 15040, 3) (18080, 15040, 3) (18176, 15104, 3) (18176, 15104, 3)\n"
     ]
    },
    {
     "name": "stderr",
     "output_type": "stream",
     "text": [
      "430it [11:49:54, 104.00s/it]"
     ]
    },
    {
     "name": "stdout",
     "output_type": "stream",
     "text": [
      "(18080, 15040, 3) (18080, 15040, 3) (18176, 15104, 3) (18176, 15104, 3)\n"
     ]
    },
    {
     "name": "stderr",
     "output_type": "stream",
     "text": [
      "431it [11:51:33, 102.58s/it]"
     ]
    },
    {
     "name": "stdout",
     "output_type": "stream",
     "text": [
      "(18080, 15040, 3) (18080, 15040, 3) (18080, 15040, 3) (18080, 15040, 3)\n"
     ]
    },
    {
     "name": "stderr",
     "output_type": "stream",
     "text": [
      "432it [11:53:13, 101.95s/it]"
     ]
    },
    {
     "name": "stdout",
     "output_type": "stream",
     "text": [
      "(18080, 15040, 3) (18080, 15040, 3) (18080, 15040, 3) (18080, 15040, 3)\n"
     ]
    },
    {
     "name": "stderr",
     "output_type": "stream",
     "text": [
      "433it [11:54:54, 101.51s/it]"
     ]
    },
    {
     "name": "stdout",
     "output_type": "stream",
     "text": [
      "(18080, 15040, 3) (18080, 15040, 3) (18080, 15040, 3) (18080, 15040, 3)\n"
     ]
    },
    {
     "name": "stderr",
     "output_type": "stream",
     "text": [
      "434it [11:56:38, 102.14s/it]"
     ]
    },
    {
     "name": "stdout",
     "output_type": "stream",
     "text": [
      "(18080, 15040, 3) (18080, 15040, 3) (18080, 15040, 3) (18080, 15040, 3)\n"
     ]
    },
    {
     "name": "stderr",
     "output_type": "stream",
     "text": [
      "435it [11:58:25, 103.65s/it]"
     ]
    },
    {
     "name": "stdout",
     "output_type": "stream",
     "text": [
      "(18080, 15040, 3) (18080, 15040, 3) (18176, 15104, 3) (18176, 15104, 3)\n"
     ]
    },
    {
     "name": "stderr",
     "output_type": "stream",
     "text": [
      "436it [12:00:14, 105.32s/it]"
     ]
    },
    {
     "name": "stdout",
     "output_type": "stream",
     "text": [
      "(18080, 15040, 3) (18080, 15040, 3) (18080, 15040, 3) (18080, 15040, 3)\n"
     ]
    },
    {
     "name": "stderr",
     "output_type": "stream",
     "text": [
      "437it [12:01:28, 95.81s/it] "
     ]
    },
    {
     "name": "stdout",
     "output_type": "stream",
     "text": [
      "(18176, 15104, 3) (18176, 15104, 3) (18176, 15104, 3) (18176, 15104, 3)\n"
     ]
    },
    {
     "name": "stderr",
     "output_type": "stream",
     "text": [
      "438it [12:02:42, 89.54s/it]"
     ]
    },
    {
     "name": "stdout",
     "output_type": "stream",
     "text": [
      "(18080, 15040, 3) (18080, 15040, 3) (18080, 15040, 3) (18080, 15040, 3)\n"
     ]
    },
    {
     "name": "stderr",
     "output_type": "stream",
     "text": [
      "439it [12:04:22, 92.44s/it]"
     ]
    },
    {
     "name": "stdout",
     "output_type": "stream",
     "text": [
      "(18080, 15040, 3) (18080, 15040, 3) (18176, 15104, 3) (18176, 15104, 3)\n"
     ]
    },
    {
     "name": "stderr",
     "output_type": "stream",
     "text": [
      "440it [12:05:58, 93.48s/it]"
     ]
    },
    {
     "name": "stdout",
     "output_type": "stream",
     "text": [
      "(18080, 15040, 3) (18080, 15040, 3) (18080, 15040, 3) (18080, 15040, 3)\n"
     ]
    },
    {
     "name": "stderr",
     "output_type": "stream",
     "text": [
      "441it [12:07:37, 95.25s/it]"
     ]
    },
    {
     "name": "stdout",
     "output_type": "stream",
     "text": [
      "(18080, 15040, 3) (18080, 15040, 3) (18176, 15104, 3) (18176, 15104, 3)\n"
     ]
    },
    {
     "name": "stderr",
     "output_type": "stream",
     "text": [
      "442it [12:09:22, 98.20s/it]"
     ]
    },
    {
     "name": "stdout",
     "output_type": "stream",
     "text": [
      "(18080, 15040, 3) (18080, 15040, 3) (18080, 15040, 3) (18080, 15040, 3)\n"
     ]
    },
    {
     "name": "stderr",
     "output_type": "stream",
     "text": [
      "443it [12:11:06, 99.89s/it]"
     ]
    },
    {
     "name": "stdout",
     "output_type": "stream",
     "text": [
      "(18080, 15040, 3) (18080, 15040, 3) (18080, 15040, 3) (18080, 15040, 3)\n"
     ]
    },
    {
     "name": "stderr",
     "output_type": "stream",
     "text": [
      "444it [12:12:45, 99.74s/it]"
     ]
    },
    {
     "name": "stdout",
     "output_type": "stream",
     "text": [
      "(18080, 15040, 3) (18080, 15040, 3) (18080, 15040, 3) (18080, 15040, 3)\n"
     ]
    },
    {
     "name": "stderr",
     "output_type": "stream",
     "text": [
      "445it [12:14:18, 97.61s/it]"
     ]
    },
    {
     "name": "stdout",
     "output_type": "stream",
     "text": [
      "(18080, 15040, 3) (18080, 15040, 3) (18080, 15040, 3) (18080, 15040, 3)\n"
     ]
    },
    {
     "name": "stderr",
     "output_type": "stream",
     "text": [
      "446it [12:15:59, 98.57s/it]"
     ]
    },
    {
     "name": "stdout",
     "output_type": "stream",
     "text": [
      "(18080, 15040, 3) (18080, 15040, 3) (18080, 15040, 3) (18080, 15040, 3)\n"
     ]
    },
    {
     "name": "stderr",
     "output_type": "stream",
     "text": [
      "447it [12:17:47, 101.49s/it]"
     ]
    },
    {
     "name": "stdout",
     "output_type": "stream",
     "text": [
      "(18080, 15040, 3) (18080, 15040, 3) (18080, 15040, 3) (18080, 15040, 3)\n"
     ]
    },
    {
     "name": "stderr",
     "output_type": "stream",
     "text": [
      "448it [12:19:39, 104.54s/it]"
     ]
    },
    {
     "name": "stdout",
     "output_type": "stream",
     "text": [
      "(18080, 15040, 3) (18080, 15040, 3) (18080, 15040, 3) (18080, 15040, 3)\n"
     ]
    },
    {
     "name": "stderr",
     "output_type": "stream",
     "text": [
      "449it [12:20:56, 96.37s/it] "
     ]
    },
    {
     "name": "stdout",
     "output_type": "stream",
     "text": [
      "(18080, 15040, 3) (18080, 15040, 3) (18176, 15104, 3) (18176, 15104, 3)\n"
     ]
    },
    {
     "name": "stderr",
     "output_type": "stream",
     "text": [
      "450it [12:22:28, 94.93s/it]"
     ]
    },
    {
     "name": "stdout",
     "output_type": "stream",
     "text": [
      "(18080, 15040, 3) (18080, 15040, 3) (18080, 15040, 3) (18080, 15040, 3)\n"
     ]
    },
    {
     "name": "stderr",
     "output_type": "stream",
     "text": [
      "451it [12:24:16, 99.08s/it]"
     ]
    },
    {
     "name": "stdout",
     "output_type": "stream",
     "text": [
      "(18080, 15040, 3) (18080, 15040, 3) (18080, 15040, 3) (18080, 15040, 3)\n"
     ]
    },
    {
     "name": "stderr",
     "output_type": "stream",
     "text": [
      "452it [12:25:53, 98.47s/it]"
     ]
    },
    {
     "name": "stdout",
     "output_type": "stream",
     "text": [
      "(18176, 15104, 3) (18176, 15104, 3) (18080, 15040, 3) (18080, 15040, 3)\n"
     ]
    },
    {
     "name": "stderr",
     "output_type": "stream",
     "text": [
      "453it [12:27:36, 99.82s/it]"
     ]
    },
    {
     "name": "stdout",
     "output_type": "stream",
     "text": [
      "(18176, 15104, 3) (18176, 15104, 3) (18176, 15104, 3) (18176, 15104, 3)\n"
     ]
    },
    {
     "ename": "KeyboardInterrupt",
     "evalue": "",
     "output_type": "error",
     "traceback": [
      "\u001b[0;31m---------------------------------------------------------------------------\u001b[0m",
      "\u001b[0;31mKeyboardInterrupt\u001b[0m                         Traceback (most recent call last)",
      "\u001b[0;32m<ipython-input-35-cfb5848f9fca>\u001b[0m in \u001b[0;36m<module>\u001b[0;34m\u001b[0m\n\u001b[1;32m      2\u001b[0m \u001b[0;34m\u001b[0m\u001b[0m\n\u001b[1;32m      3\u001b[0m \u001b[0;32mfor\u001b[0m \u001b[0mi\u001b[0m\u001b[0;34m,\u001b[0m\u001b[0;34m(\u001b[0m\u001b[0mt\u001b[0m\u001b[0;34m,\u001b[0m \u001b[0mtm\u001b[0m\u001b[0;34m,\u001b[0m \u001b[0mh\u001b[0m\u001b[0;34m,\u001b[0m \u001b[0mhm\u001b[0m\u001b[0;34m)\u001b[0m \u001b[0;32min\u001b[0m \u001b[0mtqdm\u001b[0m\u001b[0;34m(\u001b[0m \u001b[0menumerate\u001b[0m\u001b[0;34m(\u001b[0m \u001b[0mmake_target_list\u001b[0m\u001b[0;34m(\u001b[0m\u001b[0mgene_name\u001b[0m\u001b[0;34m)\u001b[0m \u001b[0;34m)\u001b[0m \u001b[0;34m)\u001b[0m\u001b[0;34m:\u001b[0m\u001b[0;34m\u001b[0m\u001b[0;34m\u001b[0m\u001b[0m\n\u001b[0;32m----> 4\u001b[0;31m     \u001b[0mcut_image\u001b[0m\u001b[0;34m(\u001b[0m \u001b[0mt\u001b[0m\u001b[0;34m,\u001b[0m \u001b[0mtm\u001b[0m\u001b[0;34m,\u001b[0m \u001b[0mh\u001b[0m\u001b[0;34m,\u001b[0m \u001b[0mhm\u001b[0m\u001b[0;34m,\u001b[0m \u001b[0mfname\u001b[0m\u001b[0;34m=\u001b[0m\u001b[0;34m\"sliced_out/{}/{}_XXX.jpg\"\u001b[0m\u001b[0;34m.\u001b[0m\u001b[0mformat\u001b[0m\u001b[0;34m(\u001b[0m\u001b[0mgene_name\u001b[0m\u001b[0;34m,\u001b[0m\u001b[0mi\u001b[0m\u001b[0;34m+\u001b[0m\u001b[0;36m1\u001b[0m\u001b[0;34m)\u001b[0m \u001b[0;34m)\u001b[0m\u001b[0;34m\u001b[0m\u001b[0;34m\u001b[0m\u001b[0m\n\u001b[0m",
      "\u001b[0;32m<ipython-input-33-0f1328e623f7>\u001b[0m in \u001b[0;36mcut_image\u001b[0;34m(t, tm, h, hm, fname)\u001b[0m\n\u001b[1;32m     49\u001b[0m             \u001b[0;31m#save image\u001b[0m\u001b[0;34m\u001b[0m\u001b[0;34m\u001b[0m\u001b[0;34m\u001b[0m\u001b[0m\n\u001b[1;32m     50\u001b[0m             \u001b[0mimg\u001b[0m \u001b[0;34m=\u001b[0m \u001b[0mPIL\u001b[0m\u001b[0;34m.\u001b[0m\u001b[0mImage\u001b[0m\u001b[0;34m.\u001b[0m\u001b[0mfromarray\u001b[0m\u001b[0;34m(\u001b[0m\u001b[0mout\u001b[0m\u001b[0;34m)\u001b[0m\u001b[0;34m\u001b[0m\u001b[0;34m\u001b[0m\u001b[0m\n\u001b[0;32m---> 51\u001b[0;31m             \u001b[0mimg\u001b[0m\u001b[0;34m.\u001b[0m\u001b[0msave\u001b[0m\u001b[0;34m(\u001b[0m\u001b[0mfname\u001b[0m\u001b[0;34m.\u001b[0m\u001b[0mreplace\u001b[0m\u001b[0;34m(\u001b[0m\u001b[0;34m'XXX'\u001b[0m\u001b[0;34m,\u001b[0m \u001b[0mstr\u001b[0m\u001b[0;34m(\u001b[0m\u001b[0mOUT_NUM\u001b[0m\u001b[0;34m)\u001b[0m\u001b[0;34m)\u001b[0m\u001b[0;34m,\u001b[0m \u001b[0;34m\"JPEG\"\u001b[0m\u001b[0;34m,\u001b[0m \u001b[0mquality\u001b[0m\u001b[0;34m=\u001b[0m\u001b[0;36m100\u001b[0m\u001b[0;34m,\u001b[0m \u001b[0moptimize\u001b[0m\u001b[0;34m=\u001b[0m\u001b[0;32mTrue\u001b[0m\u001b[0;34m,\u001b[0m \u001b[0mprogressive\u001b[0m\u001b[0;34m=\u001b[0m\u001b[0;32mTrue\u001b[0m\u001b[0;34m)\u001b[0m\u001b[0;34m\u001b[0m\u001b[0;34m\u001b[0m\u001b[0m\n\u001b[0m\u001b[1;32m     52\u001b[0m             \u001b[0mOUT_NUM\u001b[0m \u001b[0;34m+=\u001b[0m \u001b[0;36m1\u001b[0m\u001b[0;34m\u001b[0m\u001b[0;34m\u001b[0m\u001b[0m\n\u001b[1;32m     53\u001b[0m             \u001b[0;32mdel\u001b[0m \u001b[0mimg\u001b[0m\u001b[0;34m\u001b[0m\u001b[0;34m\u001b[0m\u001b[0m\n",
      "\u001b[0;32m~/anaconda3/lib/python3.7/site-packages/PIL/Image.py\u001b[0m in \u001b[0;36msave\u001b[0;34m(self, fp, format, **params)\u001b[0m\n\u001b[1;32m   2104\u001b[0m             \u001b[0;31m# do what we can to clean up\u001b[0m\u001b[0;34m\u001b[0m\u001b[0;34m\u001b[0m\u001b[0;34m\u001b[0m\u001b[0m\n\u001b[1;32m   2105\u001b[0m             \u001b[0;32mif\u001b[0m \u001b[0mopen_fp\u001b[0m\u001b[0;34m:\u001b[0m\u001b[0;34m\u001b[0m\u001b[0;34m\u001b[0m\u001b[0m\n\u001b[0;32m-> 2106\u001b[0;31m                 \u001b[0mfp\u001b[0m\u001b[0;34m.\u001b[0m\u001b[0mclose\u001b[0m\u001b[0;34m(\u001b[0m\u001b[0;34m)\u001b[0m\u001b[0;34m\u001b[0m\u001b[0;34m\u001b[0m\u001b[0m\n\u001b[0m\u001b[1;32m   2107\u001b[0m \u001b[0;34m\u001b[0m\u001b[0m\n\u001b[1;32m   2108\u001b[0m     \u001b[0;32mdef\u001b[0m \u001b[0mseek\u001b[0m\u001b[0;34m(\u001b[0m\u001b[0mself\u001b[0m\u001b[0;34m,\u001b[0m \u001b[0mframe\u001b[0m\u001b[0;34m)\u001b[0m\u001b[0;34m:\u001b[0m\u001b[0;34m\u001b[0m\u001b[0;34m\u001b[0m\u001b[0m\n",
      "\u001b[0;31mKeyboardInterrupt\u001b[0m: "
     ]
    }
   ],
   "source": [
    "gene_name = 'MET'\n",
    "\n",
    "for i,(t, tm, h, hm) in tqdm( enumerate( make_target_list(gene_name) ) ):\n",
    "    cut_image( t, tm, h, hm, fname=\"sliced_out/{}/{}_XXX.jpg\".format(gene_name,i+1) )"
   ]
  },
  {
   "cell_type": "code",
   "execution_count": null,
   "metadata": {},
   "outputs": [],
   "source": []
  }
 ],
 "metadata": {
  "kernelspec": {
   "display_name": "Python 3",
   "language": "python",
   "name": "python3"
  },
  "language_info": {
   "codemirror_mode": {
    "name": "ipython",
    "version": 3
   },
   "file_extension": ".py",
   "mimetype": "text/x-python",
   "name": "python",
   "nbconvert_exporter": "python",
   "pygments_lexer": "ipython3",
   "version": "3.7.6"
  }
 },
 "nbformat": 4,
 "nbformat_minor": 4
}
