{
 "cells": [
  {
   "cell_type": "markdown",
   "metadata": {
    "id": "7wNjDKdQy35h"
   },
   "source": [
    "# Install"
   ]
  },
  {
   "cell_type": "code",
   "execution_count": null,
   "metadata": {
    "colab": {
     "base_uri": "https://localhost:8080/"
    },
    "executionInfo": {
     "elapsed": 1605,
     "status": "ok",
     "timestamp": 1605646149752,
     "user": {
      "displayName": "Anand Shankar",
      "photoUrl": "https://lh3.googleusercontent.com/a-/AOh14GhhmPpiyewGvXougKDr9eAKV8DOP0B9o1QbyUdx=s64",
      "userId": "15077556928868917832"
     },
     "user_tz": 300
    },
    "id": "TRm-USlsHgEV",
    "outputId": "36fae311-92dd-4a61-b3d8-d34112297ce9"
   },
   "outputs": [],
   "source": [
    "!git clone https://github.com/junyanz/pytorch-CycleGAN-and-pix2pix"
   ]
  },
  {
   "cell_type": "code",
   "execution_count": null,
   "metadata": {
    "id": "Pt3igws3eiVp"
   },
   "outputs": [],
   "source": [
    "import os\n",
    "os.chdir('pytorch-CycleGAN-and-pix2pix/')"
   ]
  },
  {
   "cell_type": "code",
   "execution_count": null,
   "metadata": {
    "colab": {
     "base_uri": "https://localhost:8080/"
    },
    "executionInfo": {
     "elapsed": 7272,
     "status": "ok",
     "timestamp": 1605674209283,
     "user": {
      "displayName": "Anand Shankar",
      "photoUrl": "https://lh3.googleusercontent.com/a-/AOh14GhhmPpiyewGvXougKDr9eAKV8DOP0B9o1QbyUdx=s64",
      "userId": "15077556928868917832"
     },
     "user_tz": 300
    },
    "id": "z1EySlOXwwoa",
    "outputId": "c5594c2a-e7ba-443c-ff81-3641fa1dd15b"
   },
   "outputs": [],
   "source": [
    "!pip install -r requirements.txt"
   ]
  },
  {
   "cell_type": "code",
   "execution_count": null,
   "metadata": {
    "id": "SQLw5BXgPDiF"
   },
   "outputs": [],
   "source": [
    "#To split dataset into train, val and test\n",
    "#Paths may have to be changed accordingly\n",
    "\n",
    "from glob import glob\n",
    "import random\n",
    "random.seed(0)\n",
    "files = glob('MET_SUB/*')\n",
    "random.shuffle(files)\n",
    "\n",
    "#train 8000\n",
    "#val 1000\n",
    "#test 1000\n",
    "\n",
    "train_files = files[:8000]\n",
    "val_files = files[8000:9000]\n",
    "test_files = files[9000:10000]\n"
   ]
  },
  {
   "cell_type": "code",
   "execution_count": null,
   "metadata": {
    "id": "NPaNNXdqBk87"
   },
   "outputs": [],
   "source": [
    "#Copy files to corresponding folders\n",
    "for i in train_files:\n",
    "  !cp $i train/\n",
    "for i in val_files:\n",
    "  !cp $i val/\n",
    "for i in test_files:\n",
    "  !cp $i test/"
   ]
  },
  {
   "cell_type": "markdown",
   "metadata": {
    "id": "yFw1kDQBx3LN"
   },
   "source": [
    "# Training\n",
    "\n",
    "-   `python train.py --dataroot ./datasets/facades --name facades_pix2pix --model pix2pix --direction BtoA`\n",
    "\n",
    "Change the `--dataroot` and `--name` to your own dataset's path and model's name. Use `--gpu_ids 0,1,..` to train on multiple GPUs and `--batch_size` to change the batch size. Add `--direction BtoA` if you want to train a model to transfrom from class B to A."
   ]
  },
  {
   "cell_type": "code",
   "execution_count": null,
   "metadata": {
    "colab": {
     "base_uri": "https://localhost:8080/"
    },
    "executionInfo": {
     "elapsed": 766309,
     "status": "ok",
     "timestamp": 1605683664415,
     "user": {
      "displayName": "Anand Shankar",
      "photoUrl": "https://lh3.googleusercontent.com/a-/AOh14GhhmPpiyewGvXougKDr9eAKV8DOP0B9o1QbyUdx=s64",
      "userId": "15077556928868917832"
     },
     "user_tz": 300
    },
    "id": "0sp7TCT2x9dB",
    "outputId": "40ae9e7b-6710-4229-85e6-899821885691"
   },
   "outputs": [],
   "source": [
    "#Place train,val and test folders inside a folder called ishdata within /pytorch-CycleGAN-and-pix2pix/datasets\n",
    "!python train.py --dataroot ./datasets/ishdata --name ishdata_pix2pix --model pix2pix --direction BtoA --gpu_ids 0 --n_epochs 10 "
   ]
  },
  {
   "cell_type": "markdown",
   "metadata": {
    "id": "9UkcaFZiyASl"
   },
   "source": [
    "# Testing\n",
    "\n",
    "-   `python test.py --dataroot ./datasets/facades --direction BtoA --model pix2pix --name facades_pix2pix`\n",
    "\n",
    "Change the `--dataroot`, `--name`, and `--direction` to be consistent with your trained model's configuration and how you want to transform images.\n",
    "\n",
    "> from https://github.com/junyanz/pytorch-CycleGAN-and-pix2pix:\n",
    "> Note that we specified --direction BtoA as Facades dataset's A to B direction is photos to labels.\n",
    "\n",
    "> If you would like to apply a pre-trained model to a collection of input images (rather than image pairs), please use --model test option. See ./scripts/test_single.sh for how to apply a model to Facade label maps (stored in the directory facades/testB).\n",
    "\n",
    "> See a list of currently available models at ./scripts/download_pix2pix_model.sh"
   ]
  },
  {
   "cell_type": "code",
   "execution_count": null,
   "metadata": {
    "id": "mey7o6j-0368"
   },
   "outputs": [],
   "source": [
    "!ls checkpoints/"
   ]
  },
  {
   "cell_type": "code",
   "execution_count": null,
   "metadata": {
    "id": "uCsKkEq0yGh0"
   },
   "outputs": [],
   "source": [
    "!python test.py --dataroot ./datasets/facades --direction BtoA --model pix2pix --name facades_label2photo_pretrained"
   ]
  },
  {
   "cell_type": "markdown",
   "metadata": {
    "id": "OzSKIPUByfiN"
   },
   "source": [
    "# Visualize"
   ]
  },
  {
   "cell_type": "code",
   "execution_count": null,
   "metadata": {
    "id": "9Mgg8raPyizq"
   },
   "outputs": [],
   "source": [
    "import matplotlib.pyplot as plt\n",
    "\n",
    "img = plt.imread('./results/facades_label2photo_pretrained/test_latest/images/100_fake_B.png')\n",
    "plt.imshow(img)"
   ]
  },
  {
   "cell_type": "code",
   "execution_count": null,
   "metadata": {
    "id": "0G3oVH9DyqLQ"
   },
   "outputs": [],
   "source": [
    "img = plt.imread('./results/facades_label2photo_pretrained/test_latest/images/100_real_A.png')\n",
    "plt.imshow(img)"
   ]
  },
  {
   "cell_type": "code",
   "execution_count": null,
   "metadata": {
    "id": "ErK5OC1j1LH4"
   },
   "outputs": [],
   "source": [
    "img = plt.imread('./results/facades_label2photo_pretrained/test_latest/images/100_real_B.png')\n",
    "plt.imshow(img)"
   ]
  }
 ],
 "metadata": {
  "accelerator": "GPU",
  "colab": {
   "collapsed_sections": [],
   "name": "590_pix2pix.ipynb",
   "provenance": [
    {
     "file_id": "https://github.com/junyanz/pytorch-CycleGAN-and-pix2pix/blob/master/pix2pix.ipynb",
     "timestamp": 1605109344983
    }
   ]
  },
  "kernelspec": {
   "display_name": "Python 3",
   "language": "python",
   "name": "python3"
  },
  "language_info": {
   "codemirror_mode": {
    "name": "ipython",
    "version": 3
   },
   "file_extension": ".py",
   "mimetype": "text/x-python",
   "name": "python",
   "nbconvert_exporter": "python",
   "pygments_lexer": "ipython3",
   "version": "3.7.5"
  }
 },
 "nbformat": 4,
 "nbformat_minor": 4
}
